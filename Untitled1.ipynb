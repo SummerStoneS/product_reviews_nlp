{
 "cells": [
  {
   "cell_type": "code",
   "execution_count": 21,
   "id": "0bbcd2e9",
   "metadata": {},
   "outputs": [],
   "source": [
    "import pandas as pd\n",
    "import jieba\n",
    "import re"
   ]
  },
  {
   "cell_type": "code",
   "execution_count": 137,
   "id": "ba93e5f2",
   "metadata": {},
   "outputs": [],
   "source": [
    "data_fa22 = pd.read_excel(r\"C:\\Users\\rshe11\\Desktop\\Alex_request\\Tmall Flc Key Words FA22.xlsx\")\n",
    "data_fa21 = pd.read_excel(r\"C:\\Users\\rshe11\\Desktop\\Alex_request\\Tmall Flc Key Words FA22.xlsx\", sheet_name='FA21')\n",
    "data_fa22 = data_fa22[data_fa22['Demand FA'].notnull()]\n",
    "data_fa21 = data_fa21[data_fa21['Demand FA'].notnull()]"
   ]
  },
  {
   "cell_type": "code",
   "execution_count": 62,
   "id": "863a887a",
   "metadata": {},
   "outputs": [],
   "source": [
    "keys = pd.read_excel(r\"C:\\Users\\rshe11\\Desktop\\Alex_request\\Tmall Flc Key Words FA22(1).xlsx\",sheet_name='keys')['key'].tolist()"
   ]
  },
  {
   "cell_type": "code",
   "execution_count": 63,
   "id": "d05f82c0",
   "metadata": {},
   "outputs": [],
   "source": [
    "keys = [key.upper() for key in keys]"
   ]
  },
  {
   "cell_type": "code",
   "execution_count": 106,
   "id": "9bd74117",
   "metadata": {
    "scrolled": true
   },
   "outputs": [
    {
     "data": {
      "text/html": [
       "<div>\n",
       "<style scoped>\n",
       "    .dataframe tbody tr th:only-of-type {\n",
       "        vertical-align: middle;\n",
       "    }\n",
       "\n",
       "    .dataframe tbody tr th {\n",
       "        vertical-align: top;\n",
       "    }\n",
       "\n",
       "    .dataframe thead th {\n",
       "        text-align: right;\n",
       "    }\n",
       "</style>\n",
       "<table border=\"1\" class=\"dataframe\">\n",
       "  <thead>\n",
       "    <tr style=\"text-align: right;\">\n",
       "      <th></th>\n",
       "      <th>宝贝名称</th>\n",
       "      <th>掌柜名称 (group)</th>\n",
       "      <th>Price Bands AUR</th>\n",
       "      <th>Gender</th>\n",
       "      <th>Demand FA</th>\n",
       "    </tr>\n",
       "  </thead>\n",
       "  <tbody>\n",
       "    <tr>\n",
       "      <th>0</th>\n",
       "      <td>FILA 斐乐官方连帽卫衣男女2022秋季新款宽松休闲运动情侣装上衣</td>\n",
       "      <td>fila</td>\n",
       "      <td>400-600</td>\n",
       "      <td>Unisex</td>\n",
       "      <td>421925</td>\n",
       "    </tr>\n",
       "    <tr>\n",
       "      <th>1</th>\n",
       "      <td>李宁加绒卫衣男士秋季官方圆领长袖情侣装刺绣休闲上衣运动服女士</td>\n",
       "      <td>李宁</td>\n",
       "      <td>0-200</td>\n",
       "      <td>Unisex</td>\n",
       "      <td>365078</td>\n",
       "    </tr>\n",
       "    <tr>\n",
       "      <th>2</th>\n",
       "      <td>FILA FUSION 斐乐潮牌情侣卫衣男女秋季新款宽松运动衫套头卫衣女</td>\n",
       "      <td>fila</td>\n",
       "      <td>400-600</td>\n",
       "      <td>Unisex</td>\n",
       "      <td>353265</td>\n",
       "    </tr>\n",
       "    <tr>\n",
       "      <th>3</th>\n",
       "      <td>李宁卫衣女秋季新款官方情侣装帽衫套头上衣粉色刺绣长袖男运动服</td>\n",
       "      <td>李宁</td>\n",
       "      <td>0-200</td>\n",
       "      <td>Unisex</td>\n",
       "      <td>249031</td>\n",
       "    </tr>\n",
       "    <tr>\n",
       "      <th>4</th>\n",
       "      <td>李宁卫衣女秋季新款官方情侣装帽衫套头上衣粉色刺绣长袖男运动服</td>\n",
       "      <td>李宁</td>\n",
       "      <td>200-400</td>\n",
       "      <td>Unisex</td>\n",
       "      <td>2512</td>\n",
       "    </tr>\n",
       "  </tbody>\n",
       "</table>\n",
       "</div>"
      ],
      "text/plain": [
       "                                   宝贝名称 掌柜名称 (group) Price Bands AUR  Gender  \\\n",
       "0    FILA 斐乐官方连帽卫衣男女2022秋季新款宽松休闲运动情侣装上衣         fila         400-600  Unisex   \n",
       "1        李宁加绒卫衣男士秋季官方圆领长袖情侣装刺绣休闲上衣运动服女士           李宁           0-200  Unisex   \n",
       "2  FILA FUSION 斐乐潮牌情侣卫衣男女秋季新款宽松运动衫套头卫衣女         fila         400-600  Unisex   \n",
       "3        李宁卫衣女秋季新款官方情侣装帽衫套头上衣粉色刺绣长袖男运动服           李宁           0-200  Unisex   \n",
       "4        李宁卫衣女秋季新款官方情侣装帽衫套头上衣粉色刺绣长袖男运动服           李宁         200-400  Unisex   \n",
       "\n",
       "   Demand FA  \n",
       "0     421925  \n",
       "1     365078  \n",
       "2     353265  \n",
       "3     249031  \n",
       "4       2512  "
      ]
     },
     "execution_count": 106,
     "metadata": {},
     "output_type": "execute_result"
    }
   ],
   "source": [
    "data_fa22.head()"
   ]
  },
  {
   "cell_type": "code",
   "execution_count": 11,
   "id": "c30378d1",
   "metadata": {},
   "outputs": [],
   "source": [
    "# # 版本一 直接分词\n",
    "# word_dict = {}\n",
    "# for i, demand in zip(data['宝贝名称'].tolist(), data[\"Demand FA\"].tolist()):\n",
    "#     name = i.upper()\n",
    "#     name_word_list = jieba.cut(name)\n",
    "#     for word in name_word_list:\n",
    "#         if len(word.strip()) < 2:\n",
    "#             continue\n",
    "#         if word not in word_dict.keys():\n",
    "#             word_dict[word] = demand\n",
    "#         else:\n",
    "#             word_dict[word] += demand"
   ]
  },
  {
   "cell_type": "code",
   "execution_count": 19,
   "id": "5222f56a",
   "metadata": {},
   "outputs": [],
   "source": [
    "pd.DataFrame.from_dict(word_dict,orient='index').to_excel(r\"C:\\Users\\rshe11\\Desktop\\Alex_request\\fa22_example.xlsx\")"
   ]
  },
  {
   "cell_type": "code",
   "execution_count": 64,
   "id": "636351ee",
   "metadata": {},
   "outputs": [],
   "source": [
    "# 版本二，搜索关键词\n",
    "def keyword_frequency(data):\n",
    "    word_dict = {}\n",
    "    for i, demand in zip(data['宝贝名称'].tolist(), data[\"Demand FA\"].tolist()):\n",
    "        name = i.upper()\n",
    "        for word in keys:\n",
    "            if re.search(r\"{}\".format(word), name):\n",
    "                if word not in word_dict.keys():\n",
    "                    word_dict[word] = demand\n",
    "                else:\n",
    "                    word_dict[word] += demand\n",
    "            \n",
    "    return pd.DataFrame.from_dict(word_dict,orient='index')"
   ]
  },
  {
   "cell_type": "code",
   "execution_count": 65,
   "id": "8af2c075",
   "metadata": {},
   "outputs": [],
   "source": [
    "fa22 = keyword_frequency(data_fa22)\n",
    "fa22.columns=['fa22']\n",
    "fa21 = keyword_frequency(data_fa21)\n",
    "fa21.columns=['fa21']"
   ]
  },
  {
   "cell_type": "code",
   "execution_count": 66,
   "id": "c1235432",
   "metadata": {},
   "outputs": [],
   "source": [
    "merged = pd.concat([fa22,fa21], axis=1)"
   ]
  },
  {
   "cell_type": "code",
   "execution_count": 68,
   "id": "663790dd",
   "metadata": {},
   "outputs": [],
   "source": [
    "merged.to_excel(r\"C:\\Users\\rshe11\\Desktop\\Alex_request\\fa22_fa21_keywords_freq.xlsx\")"
   ]
  },
  {
   "cell_type": "code",
   "execution_count": 138,
   "id": "97a8fbfc",
   "metadata": {},
   "outputs": [],
   "source": [
    "master = {'fa22': data_fa22, 'fa21':data_fa21}\n",
    "\n",
    "def keyword_by_col(season, col):\n",
    "    data_fa22 = master[season]\n",
    "    final = pd.DataFrame()\n",
    "    for cat in set(data_fa22[col].unique()):\n",
    "        cat_data22 = data_fa22[data_fa22[col] == cat]\n",
    "        if len(cat_data22) == 0:\n",
    "            continue\n",
    "        fa22 = keyword_frequency(cat_data22)\n",
    "        fa22.columns=[season]\n",
    "        fa22[col] = cat\n",
    "        final = pd.concat([final, fa22])\n",
    "    return final.reset_index().set_index([col, 'index'])"
   ]
  },
  {
   "cell_type": "code",
   "execution_count": 142,
   "id": "8bcd78b8",
   "metadata": {},
   "outputs": [],
   "source": [
    "excel = pd.ExcelWriter(r\"C:\\Users\\rshe11\\Desktop\\Alex_request\\fa22_fa21_keywords_freq2.xlsx\")\n",
    "\n",
    "for col in ['掌柜名称 (group)','Price Bands AUR','Gender']:\n",
    "    result22 = keyword_by_col('fa22', col)\n",
    "    result21 = keyword_by_col('fa21', col)\n",
    "    pd.concat([result22, result21], axis=1).reset_index().to_excel(excel, sheet_name=col)\n",
    "excel.close()"
   ]
  },
  {
   "cell_type": "code",
   "execution_count": null,
   "id": "a697968f",
   "metadata": {},
   "outputs": [],
   "source": []
  }
 ],
 "metadata": {
  "kernelspec": {
   "display_name": "Python 3 (ipykernel)",
   "language": "python",
   "name": "python3"
  },
  "language_info": {
   "codemirror_mode": {
    "name": "ipython",
    "version": 3
   },
   "file_extension": ".py",
   "mimetype": "text/x-python",
   "name": "python",
   "nbconvert_exporter": "python",
   "pygments_lexer": "ipython3",
   "version": "3.9.7"
  }
 },
 "nbformat": 4,
 "nbformat_minor": 5
}

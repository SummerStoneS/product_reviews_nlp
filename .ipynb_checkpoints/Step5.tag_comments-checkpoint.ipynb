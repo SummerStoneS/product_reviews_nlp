{
 "cells": [
  {
   "cell_type": "code",
   "execution_count": 16,
   "metadata": {},
   "outputs": [],
   "source": [
    "import os\n",
    "from collections import defaultdict\n",
    "import itertools\n",
    "import re\n",
    "import pandas as pd\n",
    "from langconv import Converter\n",
    "from utils import sepSentence, get_source_comments_data\n",
    "from my_sentiment import *"
   ]
  },
  {
   "cell_type": "markdown",
   "metadata": {},
   "source": [
    "#### 给语料库里的句子生成一个字典，key是句子，values是这个句子的所有标签列表【（一级，二级，情感）, (一级，二级，情感)……】"
   ]
  },
  {
   "cell_type": "code",
   "execution_count": 2,
   "metadata": {},
   "outputs": [],
   "source": [
    "def get_sentence_tags_dict(tags):\n",
    "    \"\"\"\n",
    "        tags: 一级，二级，去重段落，情感倾向四列\n",
    "    \"\"\"\n",
    "    tag_dict = {}\n",
    "    for _, row in tags.dropna(subset=[\"一级\", \"二级\"]).iterrows():\n",
    "        for sentence in row[\"去重段落\"].split(\",\"):\n",
    "            if sentence not in tag_dict:\n",
    "                tag_dict[sentence] = []\n",
    "            tag_dict[sentence].append((row[\"一级\"], row[\"二级\"], row[\"情感倾向\"]))\n",
    "    return tag_dict"
   ]
  },
  {
   "cell_type": "markdown",
   "metadata": {},
   "source": [
    "### 1.给评论语句打标签"
   ]
  },
  {
   "cell_type": "code",
   "execution_count": 3,
   "metadata": {},
   "outputs": [],
   "source": [
    "# 生成最终结果的表头\n",
    "def get_tag_table(dataset, tag_dict):\n",
    "    columns = []\n",
    "    lv_tuples = set(itertools.chain(*(((lv1, lv2) for lv1, lv2, _ in lst) for lst in tag_dict.values())))   # 所有可能的一级二级标签\n",
    "    for lv1, lv2 in lv_tuples:\n",
    "        if lv2 == \"/\":\n",
    "            lv2 = \"其他\"\n",
    "        if lv1 in ['精神认同', '人群', '复购', '首购']:\n",
    "            columns.append((lv1, lv2))\n",
    "            continue\n",
    "        for sentiment in [\"(正面)\", \"(负面)\"]:\n",
    "            columns.append((lv1, lv2 + sentiment))\n",
    "    columns = pd.MultiIndex.from_tuples(sorted(columns))\n",
    "    tag_table = pd.DataFrame(0, columns=columns, index=dataset.index)\n",
    "    return tag_table"
   ]
  },
  {
   "cell_type": "code",
   "execution_count": 5,
   "metadata": {},
   "outputs": [],
   "source": [
    "def get_tags(dataset, tag_dict, tag_table):\n",
    "    no_tag_comments = []\n",
    "    no_tag_comments_count = 0\n",
    "    tag_index = {item: i for i, item in enumerate(tag_table.columns)}\n",
    "    for i, row in dataset.iterrows():\n",
    "        sentences = sepSentence(row.loc[pd.IndexSlice[\"评论内容\"]])\n",
    "        this_tag = []\n",
    "        is_tagged = None\n",
    "        for sentence in sentences:\n",
    "            if sentence not in tag_dict:\n",
    "                continue\n",
    "            for lv1, lv2, sentiment in tag_dict[sentence]:\n",
    "                if lv1 not in ['精神认同', '人群', '复购', '首购']:\n",
    "                    if lv2 == \"/\":\n",
    "                        lv2 = \"其他\"\n",
    "                    lv2 = lv2 + (\"(正面)\" if sentiment == \"positive\" else \"(负面)\")\n",
    "                row = i\n",
    "                col = tag_index[(lv1, lv2)]\n",
    "                tag_table.values[row, col] = 1\n",
    "            is_tagged = True\n",
    "        if not is_tagged:\n",
    "            no_tag_comments.append((row['品牌'], row['单品'], row.loc[pd.IndexSlice[\"评论内容\"]]))\n",
    "            no_tag_comments_count += 1\n",
    "    print(\"没有标签评论数占比\", no_tag_comments_count / len(dataset))\n",
    "    # 没有被打上标签的\n",
    "    pd.DataFrame(no_tag_comments).to_excel(f\"model_result/评论标签结果/notagged_comments_result.xlsx\", index=False, encoding='utf-8')\n",
    "    return tag_table"
   ]
  },
  {
   "cell_type": "code",
   "execution_count": 6,
   "metadata": {},
   "outputs": [],
   "source": [
    "# 保存被打上标签的结果\n",
    "def save_tagged_result_by_brand(result, save_folder):\n",
    "    for i, brand in enumerate(result['品牌'].unique()):\n",
    "        print(i, brand)\n",
    "        data = result.query('品牌 == @brand')\n",
    "        if '/' in brand:\n",
    "            brand = brand.split('/')[1]\n",
    "        \n",
    "        if not os.path.exists(save_folder):\n",
    "            os.makedirs(save_folder)\n",
    "        \n",
    "        save_folder_excel = os.path.join(save_folder,'excel版')\n",
    "        if not os.path.exists(save_folder_excel):\n",
    "            os.makedirs(save_folder_excel)\n",
    "\n",
    "        data.to_excel(os.path.join(save_folder_excel, f\"tagged_comments_{brand}_result.xlsx\"), index=False, encoding='utf-8')\n",
    "        data.to_hdf(os.path.join(save_folder, f\"tagged_comments_result.h5\"), key=f\"brand{i}\")"
   ]
  },
  {
   "cell_type": "code",
   "execution_count": null,
   "metadata": {},
   "outputs": [],
   "source": [
    "# 读取评论原始数据，非首次\n",
    "dataset = pd.read_hdf('step_data/comments_dataset.h5', key='src')\n",
    "# # 首次读取原始评论数据\n",
    "# dataset = get_source_comments_data(is_first_time=False)\n",
    "# dataset = dataset.reset_index(drop=True)\n",
    "# dataset.to_hdf('step_data/comments_dataset.h5', key='src')\n",
    "# print(\"原始评价数：\", len(dataset))"
   ]
  },
  {
   "cell_type": "code",
   "execution_count": null,
   "metadata": {},
   "outputs": [],
   "source": [
    "# 语料库（带一级二级标签聚类段落）\n",
    "tags = pd.read_excel(r\"model_result/语料库/corpus_final_updated.xlsx\")\n",
    "tags = tags[tags['去重段落'].notnull()]\n",
    "print(tags['情感倾向'].unique())"
   ]
  },
  {
   "cell_type": "code",
   "execution_count": null,
   "metadata": {},
   "outputs": [],
   "source": [
    "tag_dict = get_sentence_tags_dict(tags)\n",
    "tag_table = get_tag_table(dataset, tag_dict)\n",
    "tag_table = get_tags(dataset, tag_dict, tag_table)"
   ]
  },
  {
   "cell_type": "code",
   "execution_count": null,
   "metadata": {},
   "outputs": [],
   "source": [
    "index_columns = ['品牌', '单品', '链接', 'MSRP', '评论序号', '评论内容']\n",
    "result = pd.concat([dataset[index_columns], tag_table], 1)    # 原始数据有‘男女’列，我的结果没有\n",
    "tag_columns = set(result.columns) - set(index_columns)        # 所有标签列"
   ]
  },
  {
   "cell_type": "code",
   "execution_count": null,
   "metadata": {},
   "outputs": [],
   "source": [
    "save_tagged_result_by_brand(result, save_folder='model_result/评论标签结果')"
   ]
  },
  {
   "cell_type": "code",
   "execution_count": null,
   "metadata": {},
   "outputs": [],
   "source": [
    "# 燃数除去‘男女’列的标签覆盖率75%\n",
    "rs_tag_columns = set(dataset.columns) - set(index_columns) - set('男女')\n",
    "dataset['is_tagged'] = dataset[rs_tag_columns].sum(axis=1) >= 1\n",
    "dataset['is_tagged'].sum()/len(dataset)"
   ]
  },
  {
   "cell_type": "code",
   "execution_count": null,
   "metadata": {},
   "outputs": [],
   "source": [
    "# 我的结果的覆盖率\n",
    "result['is_tagged'] = result[tag_columns].sum(axis=1) >= 1\n",
    "result['is_tagged'].sum() / len(result)"
   ]
  },
  {
   "cell_type": "code",
   "execution_count": 23,
   "metadata": {
    "scrolled": true
   },
   "outputs": [
    {
     "data": {
      "text/plain": [
       "[('性能', '其他(正面)'),\n",
       " ('性能', '其他(负面)'),\n",
       " ('性能', '回弹(正面)'),\n",
       " ('性能', '回弹(负面)'),\n",
       " ('性能', '提速(正面)'),\n",
       " ('性能', '提速(负面)'),\n",
       " ('性能', '缓震(正面)'),\n",
       " ('性能', '缓震(负面)'),\n",
       " ('性能', '轻量(正面)'),\n",
       " ('性能', '轻量(负面)'),\n",
       " ('运动性能', '回弹(正面)'),\n",
       " ('运动性能', '回弹(负面)'),\n",
       " ('运动性能', '提速(正面)'),\n",
       " ('运动性能', '提速(负面)')]"
      ]
     },
     "execution_count": 23,
     "metadata": {},
     "output_type": "execute_result"
    }
   ],
   "source": [
    "# 列名最终形式展示 以性能为例\n",
    "a=[x for x in result.columns if '性能' in x[0]]\n",
    "a"
   ]
  },
  {
   "cell_type": "code",
   "execution_count": 26,
   "metadata": {},
   "outputs": [
    {
     "data": {
      "text/plain": [
       "Index([               '品牌',                '单品',                '链接',\n",
       "                    'MSRP',              '评论序号',              '评论内容',\n",
       "            ('人群', '兄弟姐妹'),      ('人群', '其他长辈'),    ('人群', '女朋友/老婆'),\n",
       "              ('人群', '奶奶'),\n",
       "       ...\n",
       "        ('适用场景', '跑跳(负面)'),  ('适用场景', '跳绳(正面)'),  ('适用场景', '跳绳(负面)'),\n",
       "        ('适用场景', '跳舞(正面)'),  ('适用场景', '跳舞(负面)'), ('适用场景', '马拉松(正面)'),\n",
       "       ('适用场景', '马拉松(负面)'),      ('首购', '其他首购'),      ('首购', '品牌首购'),\n",
       "               'is_tagged'],\n",
       "      dtype='object', length=145)"
      ]
     },
     "execution_count": 26,
     "metadata": {},
     "output_type": "execute_result"
    }
   ],
   "source": [
    "result.columns"
   ]
  },
  {
   "cell_type": "code",
   "execution_count": null,
   "metadata": {},
   "outputs": [],
   "source": []
  }
 ],
 "metadata": {
  "kernelspec": {
   "display_name": "Python 3 (ipykernel)",
   "language": "python",
   "name": "python3"
  },
  "language_info": {
   "codemirror_mode": {
    "name": "ipython",
    "version": 3
   },
   "file_extension": ".py",
   "mimetype": "text/x-python",
   "name": "python",
   "nbconvert_exporter": "python",
   "pygments_lexer": "ipython3",
   "version": "3.9.7"
  }
 },
 "nbformat": 4,
 "nbformat_minor": 4
}

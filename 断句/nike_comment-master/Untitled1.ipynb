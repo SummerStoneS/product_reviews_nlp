{
 "cells": [
  {
   "cell_type": "code",
   "execution_count": 1,
   "id": "3310487f",
   "metadata": {},
   "outputs": [],
   "source": [
    "from bert import get_tokenizer"
   ]
  },
  {
   "cell_type": "code",
   "execution_count": 2,
   "id": "d9661ae5",
   "metadata": {},
   "outputs": [],
   "source": [
    "import torch as th"
   ]
  },
  {
   "cell_type": "code",
   "execution_count": 6,
   "id": "3d9ae6f9",
   "metadata": {},
   "outputs": [],
   "source": [
    "tokenizer = th.hub.load(th.hub.get_dir() + \"/huggingface_pytorch-transformers_main\", \"tokenizer\", \"bert-base-chinese\", source=\"local\")"
   ]
  },
  {
   "cell_type": "code",
   "execution_count": 7,
   "id": "a89fbc07",
   "metadata": {},
   "outputs": [
    {
     "data": {
      "text/plain": [
       "[101, 6821, 1352, 7490, 679, 1962, 4692, 102]"
      ]
     },
     "execution_count": 7,
     "metadata": {},
     "output_type": "execute_result"
    }
   ],
   "source": [
    "tokenizer.encode('这双鞋不好看')"
   ]
  },
  {
   "cell_type": "code",
   "execution_count": null,
   "id": "d4e37711",
   "metadata": {},
   "outputs": [],
   "source": []
  }
 ],
 "metadata": {
  "kernelspec": {
   "display_name": "Python 3 (ipykernel)",
   "language": "python",
   "name": "python3"
  },
  "language_info": {
   "codemirror_mode": {
    "name": "ipython",
    "version": 3
   },
   "file_extension": ".py",
   "mimetype": "text/x-python",
   "name": "python",
   "nbconvert_exporter": "python",
   "pygments_lexer": "ipython3",
   "version": "3.9.7"
  }
 },
 "nbformat": 4,
 "nbformat_minor": 5
}

{
 "cells": [
  {
   "cell_type": "code",
   "execution_count": 10,
   "id": "e96b1aab",
   "metadata": {},
   "outputs": [],
   "source": [
    "import torch as th\n",
    "import torch.nn as nn"
   ]
  },
  {
   "cell_type": "code",
   "execution_count": 4,
   "id": "1b3cf5e8",
   "metadata": {},
   "outputs": [
    {
     "name": "stderr",
     "output_type": "stream",
     "text": [
      "Some weights of the model checkpoint at bert-base-chinese were not used when initializing BertModel: ['cls.predictions.transform.dense.bias', 'cls.predictions.transform.LayerNorm.bias', 'cls.seq_relationship.bias', 'cls.predictions.transform.dense.weight', 'cls.predictions.transform.LayerNorm.weight', 'cls.seq_relationship.weight', 'cls.predictions.decoder.weight', 'cls.predictions.bias']\n",
      "- This IS expected if you are initializing BertModel from the checkpoint of a model trained on another task or with another architecture (e.g. initializing a BertForSequenceClassification model from a BertForPreTraining model).\n",
      "- This IS NOT expected if you are initializing BertModel from the checkpoint of a model that you expect to be exactly identical (initializing a BertForSequenceClassification model from a BertForSequenceClassification model).\n"
     ]
    }
   ],
   "source": [
    "tokenizer = th.hub.load(th.hub.get_dir() + \"/huggingface_pytorch-transformers_main\", \"tokenizer\", 'bert-base-chinese',source='local')\n",
    "model = th.hub.load(th.hub.get_dir() + \"/huggingface_pytorch-transformers_main\", \"model\", 'bert-base-chinese', source='local')"
   ]
  },
  {
   "cell_type": "code",
   "execution_count": 5,
   "id": "c04a7037",
   "metadata": {},
   "outputs": [
    {
     "name": "stdout",
     "output_type": "stream",
     "text": [
      "[101, 2486, 2595, 7478, 2382, 1962, 1398, 752, 5307, 2382, 743, 6574, 7030, 679, 7231, 4959, 4708, 6037, 5653, 3302, 4959, 4708, 2523, 5653, 3302, 738, 2523, 1962, 3022, 6132, 3302, 6651, 3635, 4959, 6629, 3341, 833, 5653, 6844, 101] [0, 0, 0, 0, 1, 0, 0, 0, 0, 0, 0, 0, 0, 1, 0, 0, 0, 0, 1, 0, 0, 0, 0, 1, 0, 0, 0, 0, 0, 1, 0, 0, 0, 0, 0, 0, 0, 1] 弹性非常好|同事经常买质量不错|穿着蛮舒服|穿着很舒服|也很好搭衣服|跑步穿起来会舒适\n"
     ]
    }
   ],
   "source": [
    "sentence=\"弹性非常好|同事经常买质量不错|穿着蛮舒服|穿着很舒服|也很好搭衣服|跑步穿起来会舒适\"\n",
    "label = []\n",
    "index = [tokenizer.cls_token_id]        # 整句评论的开始符【CLS】\n",
    "for sub_sentence in sentence.split(\"|\"):\n",
    "    idx = tokenizer.encode(sub_sentence, add_special_tokens=False)  # 默认会自动标注句子的开头和结尾\n",
    "    index.extend(idx)\n",
    "    label.extend([0] * (len(idx) - 1))            # 短句的最后一个字label成1，其他字label为0\n",
    "    label.append(1)\n",
    "index.append(tokenizer.cls_token_id)\n",
    "print(index,label,sentence)"
   ]
  },
  {
   "cell_type": "code",
   "execution_count": 22,
   "id": "04ec0b56",
   "metadata": {},
   "outputs": [
    {
     "name": "stdout",
     "output_type": "stream",
     "text": [
      "torch.Size([1, 40])\n"
     ]
    }
   ],
   "source": [
    "x = th.tensor([index])\n",
    "print(x.shape)\n",
    "embeddings = model(x).last_hidden_state.transpose(1,2)"
   ]
  },
  {
   "cell_type": "code",
   "execution_count": 23,
   "id": "23f880c8",
   "metadata": {},
   "outputs": [],
   "source": [
    "predictor = nn.Conv1d(768, 1, 3)"
   ]
  },
  {
   "cell_type": "code",
   "execution_count": 24,
   "id": "3fa7653a",
   "metadata": {},
   "outputs": [
    {
     "data": {
      "text/plain": [
       "tensor([[[ 0.9964,  1.0072,  0.7011,  0.2981,  0.0637,  0.3027,  0.0482,\n",
       "           0.6353,  0.1988,  0.1287,  0.2664,  0.4352,  0.9536,  0.4324,\n",
       "           0.2514,  0.3289,  0.1918,  0.8805,  0.4253,  0.3928,  0.2677,\n",
       "           0.4927,  0.6558,  0.4563,  0.1948,  0.4983,  0.7333,  0.5008,\n",
       "           0.0153, -0.0212,  0.3299,  0.5580,  0.4194,  0.5434,  0.5388,\n",
       "           0.4295,  0.8285,  0.9218]]], grad_fn=<SqueezeBackward1>)"
      ]
     },
     "execution_count": 24,
     "metadata": {},
     "output_type": "execute_result"
    }
   ],
   "source": [
    "predictor(embeddings)"
   ]
  },
  {
   "cell_type": "code",
   "execution_count": 25,
   "id": "6e17afae",
   "metadata": {},
   "outputs": [],
   "source": [
    "?nn.Conv1d"
   ]
  },
  {
   "cell_type": "code",
   "execution_count": null,
   "id": "c25998b2",
   "metadata": {},
   "outputs": [],
   "source": []
  }
 ],
 "metadata": {
  "kernelspec": {
   "display_name": "Python 3 (ipykernel)",
   "language": "python",
   "name": "python3"
  },
  "language_info": {
   "codemirror_mode": {
    "name": "ipython",
    "version": 3
   },
   "file_extension": ".py",
   "mimetype": "text/x-python",
   "name": "python",
   "nbconvert_exporter": "python",
   "pygments_lexer": "ipython3",
   "version": "3.9.7"
  }
 },
 "nbformat": 4,
 "nbformat_minor": 5
}

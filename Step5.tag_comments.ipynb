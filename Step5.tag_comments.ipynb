{
 "cells": [
  {
   "cell_type": "code",
   "execution_count": 16,
   "metadata": {},
   "outputs": [],
   "source": [
    "import os\n",
    "from collections import defaultdict\n",
    "import itertools\n",
    "import re\n",
    "import pandas as pd\n",
    "from langconv import Converter\n",
    "from utils import sepSentence, get_source_comments_data\n",
    "from my_sentiment import *"
   ]
  },
  {
   "cell_type": "markdown",
   "metadata": {},
   "source": [
    "#### 给语料库里的句子生成一个字典，key是句子，values是这个句子的所有标签列表【（一级，二级，情感）, (一级，二级，情感)……】"
   ]
  },
  {
   "cell_type": "code",
   "execution_count": 2,
   "metadata": {},
   "outputs": [],
   "source": [
    "def get_sentence_tags_dict(tags):\n",
    "    \"\"\"\n",
    "        tags: 一级，二级，去重段落，情感倾向四列\n",
    "    \"\"\"\n",
    "    tag_dict = {}\n",
    "    for _, row in tags.dropna(subset=[\"一级\", \"二级\"]).iterrows():\n",
    "        for sentence in row[\"去重段落\"].split(\",\"):\n",
    "            if sentence not in tag_dict:\n",
    "                tag_dict[sentence] = []\n",
    "            tag_dict[sentence].append((row[\"一级\"], row[\"二级\"], row[\"情感倾向\"]))\n",
    "    return tag_dict"
   ]
  },
  {
   "cell_type": "markdown",
   "metadata": {},
   "source": [
    "### 1.给评论语句打标签"
   ]
  },
  {
   "cell_type": "code",
   "execution_count": 3,
   "metadata": {},
   "outputs": [],
   "source": [
    "# 生成最终结果的表头\n",
    "def get_tag_table(dataset, tag_dict):\n",
    "    columns = []\n",
    "    lv_tuples = set(itertools.chain(*(((lv1, lv2) for lv1, lv2, _ in lst) for lst in tag_dict.values())))   # 所有可能的一级二级标签\n",
    "    for lv1, lv2 in lv_tuples:\n",
    "        if lv2 == \"/\":\n",
    "            lv2 = \"其他\"\n",
    "        if lv1 in ['精神认同', '人群', '复购', '首购']:\n",
    "            columns.append((lv1, lv2))\n",
    "            continue\n",
    "        for sentiment in [\"(正面)\", \"(负面)\"]:\n",
    "            columns.append((lv1, lv2 + sentiment))\n",
    "    columns = pd.MultiIndex.from_tuples(sorted(columns))\n",
    "    tag_table = pd.DataFrame(0, columns=columns, index=dataset.index)\n",
    "    return tag_table"
   ]
  },
  {
   "cell_type": "code",
   "execution_count": 5,
   "metadata": {},
   "outputs": [],
   "source": [
    "def get_tags(dataset, tag_dict, tag_table):\n",
    "    no_tag_comments = []\n",
    "    no_tag_comments_count = 0\n",
    "    tag_index = {item: i for i, item in enumerate(tag_table.columns)}\n",
    "    for i, row in dataset.iterrows():\n",
    "        sentences = sepSentence(row.loc[pd.IndexSlice[\"评论内容\"]])\n",
    "        this_tag = []\n",
    "        is_tagged = None\n",
    "        for sentence in sentences:\n",
    "            if sentence not in tag_dict:\n",
    "                continue\n",
    "            for lv1, lv2, sentiment in tag_dict[sentence]:\n",
    "                if lv1 not in ['精神认同', '人群', '复购', '首购']:\n",
    "                    if lv2 == \"/\":\n",
    "                        lv2 = \"其他\"\n",
    "                    lv2 = lv2 + (\"(正面)\" if sentiment == \"positive\" else \"(负面)\")\n",
    "                row = i\n",
    "                col = tag_index[(lv1, lv2)]\n",
    "                tag_table.values[row, col] = 1\n",
    "            is_tagged = True\n",
    "        if not is_tagged:\n",
    "            no_tag_comments.append((row['品牌'], row['单品'], row.loc[pd.IndexSlice[\"评论内容\"]]))\n",
    "            no_tag_comments_count += 1\n",
    "    print(\"没有标签评论数占比\", no_tag_comments_count / len(dataset))\n",
    "    # 没有被打上标签的\n",
    "    pd.DataFrame(no_tag_comments).to_excel(f\"model_result/评论标签结果/notagged_comments_result.xlsx\", index=False, encoding='utf-8')\n",
    "    return tag_table"
   ]
  },
  {
   "cell_type": "code",
   "execution_count": 6,
   "metadata": {},
   "outputs": [],
   "source": [
    "# 保存被打上标签的结果\n",
    "def save_tagged_result_by_brand(result, save_folder):\n",
    "    for i, brand in enumerate(result['品牌'].unique()):\n",
    "        print(i, brand)\n",
    "        data = result.query('品牌 == @brand')\n",
    "        if '/' in brand:\n",
    "            brand = brand.split('/')[1]\n",
    "        \n",
    "        if not os.path.exists(save_folder):\n",
    "            os.makedirs(save_folder)\n",
    "        \n",
    "        save_folder_excel = os.path.join(save_folder,'excel版')\n",
    "        if not os.path.exists(save_folder_excel):\n",
    "            os.makedirs(save_folder_excel)\n",
    "\n",
    "        data.to_excel(os.path.join(save_folder_excel, f\"tagged_comments_{brand}_result.xlsx\"), index=False, encoding='utf-8')\n",
    "        data.to_hdf(os.path.join(save_folder, f\"tagged_comments_result.h5\"), key=f\"brand{i}\")"
   ]
  },
  {
   "cell_type": "code",
   "execution_count": null,
   "metadata": {},
   "outputs": [],
   "source": [
    "# 读取评论原始数据，非首次\n",
    "dataset = pd.read_hdf('step_data/comments_dataset.h5', key='src')\n",
    "# # 首次读取原始评论数据\n",
    "# dataset = get_source_comments_data(is_first_time=False)\n",
    "# dataset = dataset.reset_index(drop=True)\n",
    "# dataset.to_hdf('step_data/comments_dataset.h5', key='src')\n",
    "# print(\"原始评价数：\", len(dataset))"
   ]
  },
  {
   "cell_type": "code",
   "execution_count": null,
   "metadata": {},
   "outputs": [],
   "source": [
    "# 语料库（带一级二级标签聚类段落）\n",
    "tags = pd.read_excel(r\"model_result/语料库/corpus_final_updated.xlsx\")\n",
    "tags = tags[tags['去重段落'].notnull()]\n",
    "print(tags['情感倾向'].unique())"
   ]
  },
  {
   "cell_type": "code",
   "execution_count": null,
   "metadata": {},
   "outputs": [],
   "source": [
    "tag_dict = get_sentence_tags_dict(tags)\n",
    "tag_table = get_tag_table(dataset, tag_dict)\n",
    "tag_table = get_tags(dataset, tag_dict, tag_table)"
   ]
  },
  {
   "cell_type": "code",
   "execution_count": null,
   "metadata": {},
   "outputs": [],
   "source": [
    "index_columns = ['品牌', '单品', '链接', 'MSRP', '评论序号', '评论内容']\n",
    "result = pd.concat([dataset[index_columns], tag_table], 1)    # 原始数据有‘男女’列，我的结果没有\n",
    "tag_columns = set(result.columns) - set(index_columns)        # 所有标签列"
   ]
  },
  {
   "cell_type": "code",
   "execution_count": null,
   "metadata": {},
   "outputs": [],
   "source": [
    "save_tagged_result_by_brand(result, save_folder='model_result/评论标签结果')"
   ]
  },
  {
   "cell_type": "code",
   "execution_count": null,
   "metadata": {},
   "outputs": [],
   "source": [
    "# 燃数除去‘男女’列的标签覆盖率75%\n",
    "rs_tag_columns = set(dataset.columns) - set(index_columns) - set('男女')\n",
    "dataset['is_tagged'] = dataset[rs_tag_columns].sum(axis=1) >= 1\n",
    "dataset['is_tagged'].sum()/len(dataset)"
   ]
  },
  {
   "cell_type": "code",
   "execution_count": null,
   "metadata": {},
   "outputs": [],
   "source": [
    "# 我的结果的覆盖率\n",
    "result['is_tagged'] = result[tag_columns].sum(axis=1) >= 1\n",
    "result['is_tagged'].sum() / len(result)"
   ]
  },
  {
   "cell_type": "markdown",
   "metadata": {},
   "source": [
    "### 2.用第一步带关键词的情感分析给没有标签的补打标签"
   ]
  },
  {
   "cell_type": "code",
   "execution_count": 7,
   "metadata": {},
   "outputs": [],
   "source": [
    "store = pd.HDFStore(\"model_result/评论标签结果/tagged_comments_result.h5\")\n",
    "result = pd.DataFrame()\n",
    "for i in range(len(store.keys())):\n",
    "    df = store.get(f\"/brand{i}\")\n",
    "    result = pd.concat([result, df])\n",
    "store.close()"
   ]
  },
  {
   "cell_type": "code",
   "execution_count": 14,
   "metadata": {},
   "outputs": [],
   "source": [
    "index_columns = ['品牌', '单品', '链接', 'MSRP', '评论序号', '评论内容']\n",
    "tag_columns = set(result.columns) - set(index_columns)"
   ]
  },
  {
   "cell_type": "code",
   "execution_count": 15,
   "metadata": {},
   "outputs": [],
   "source": [
    "positive_tags = [x for x in tag_columns if '正面' in x[1]]\n",
    "positive_tags.sort(key=lambda x: x[0])\n",
    "negative_tags = [x for x in tag_columns if '负面' in x[1]]\n",
    "negative_tags.sort(key=lambda x: x[0])\n",
    "other_tags = set(tag_columns) - set(positive_tags) - set(negative_tags)\n",
    "\n",
    "has_tag_result = result[result[\"is_tagged\"] == True]\n",
    "has_tag_result.groupby('品牌')[positive_tags].mean().reset_index().to_excel(\"analysis_data/brand_positive_tags.xlsx\", index=False)"
   ]
  },
  {
   "cell_type": "code",
   "execution_count": 8,
   "metadata": {},
   "outputs": [],
   "source": [
    "no_tag_result = result[result[\"is_tagged\"] == False]\n",
    "no_tag_result = no_tag_result.reset_index(drop=True)"
   ]
  },
  {
   "cell_type": "code",
   "execution_count": 10,
   "metadata": {},
   "outputs": [],
   "source": [
    "# 没有标签的评论内容重新断句，生成有关键词、一级、二级、情感倾向的语料库\n",
    "comments_list = no_tag_result['评论内容'].tolist()\n",
    "sentences_list = []\n",
    "for comments in comments_list:\n",
    "    sentences = sepSentence(comments)\n",
    "    sentences_list.extend(sentences)\n",
    "sentiment_result, no_keyword = cal_score(sentences_list, orisen_tag='', keyword_sheet='情感分析关键词补打标签专用')\n",
    "add_corpus = sentiment_result[sentiment_result['tag_1'].notnull() & (sentiment_result['sentiment'] != '中性')][['tag_1', 'tag_2', 'sentence', 'sentiment']]\n",
    "add_corpus['sentiment'] = add_corpus['sentiment'].replace({'正面': 'positive', '负面': 'negative'})\n",
    "add_corpus.columns = ['一级', '二级', '去重段落', '情感倾向']"
   ]
  },
  {
   "cell_type": "code",
   "execution_count": 11,
   "metadata": {},
   "outputs": [
    {
     "data": {
      "text/plain": [
       "51987"
      ]
     },
     "execution_count": 11,
     "metadata": {},
     "output_type": "execute_result"
    }
   ],
   "source": [
    "len(add_corpus)"
   ]
  },
  {
   "cell_type": "code",
   "execution_count": 12,
   "metadata": {},
   "outputs": [],
   "source": [
    "add_tag_dict = get_sentence_tags_dict(add_corpus)"
   ]
  },
  {
   "cell_type": "code",
   "execution_count": 13,
   "metadata": {},
   "outputs": [],
   "source": [
    "index_columns = ['品牌', '单品', '链接', 'MSRP', '评论序号', '评论内容']\n",
    "tag_columns = set(no_tag_result.columns) - set(index_columns) - {'is_tagged'}        # 所有标签列, is_tagged bool类型的影响get_tags函数的效率"
   ]
  },
  {
   "cell_type": "code",
   "execution_count": 14,
   "metadata": {},
   "outputs": [],
   "source": [
    "tag_table = no_tag_result[tag_columns]"
   ]
  },
  {
   "cell_type": "code",
   "execution_count": 15,
   "metadata": {},
   "outputs": [
    {
     "name": "stdout",
     "output_type": "stream",
     "text": [
      "没有标签评论数占比 0.868903605200749\n"
     ]
    }
   ],
   "source": [
    "tag_table = get_tags(no_tag_result, add_tag_dict, tag_table)"
   ]
  },
  {
   "cell_type": "code",
   "execution_count": 43,
   "metadata": {
    "scrolled": true
   },
   "outputs": [
    {
     "name": "stderr",
     "output_type": "stream",
     "text": [
      "C:\\Users\\rshe11\\AppData\\Local\\Temp\\1/ipykernel_17036/2994212450.py:1: FutureWarning: In a future version of pandas all arguments of concat except for the argument 'objs' will be keyword-only\n",
      "  no_tag_result = pd.concat([no_tag_result[index_columns], tag_table], 1)\n"
     ]
    }
   ],
   "source": [
    "no_tag_result = pd.concat([no_tag_result[index_columns], tag_table], 1)"
   ]
  },
  {
   "cell_type": "code",
   "execution_count": 49,
   "metadata": {},
   "outputs": [
    {
     "name": "stdout",
     "output_type": "stream",
     "text": [
      "0 361°\n"
     ]
    },
    {
     "name": "stderr",
     "output_type": "stream",
     "text": [
      "C:\\Users\\rshe11\\Anaconda3\\lib\\site-packages\\pandas\\io\\pytables.py:314: PerformanceWarning: \n",
      "your performance may suffer as PyTables will pickle object types that it cannot\n",
      "map directly to c-types [inferred_type->mixed,key->axis0] [items->None]\n",
      "\n",
      "  f(store)\n",
      "C:\\Users\\rshe11\\Anaconda3\\lib\\site-packages\\pandas\\io\\pytables.py:314: PerformanceWarning: \n",
      "your performance may suffer as PyTables will pickle object types that it cannot\n",
      "map directly to c-types [inferred_type->mixed,key->block0_items] [items->None]\n",
      "\n",
      "  f(store)\n",
      "C:\\Users\\rshe11\\Anaconda3\\lib\\site-packages\\pandas\\core\\generic.py:2703: PerformanceWarning: \n",
      "your performance may suffer as PyTables will pickle object types that it cannot\n",
      "map directly to c-types [inferred_type->mixed-integer,key->block1_values] [items->Index(['品牌', '单品', '链接', 'MSRP', '评论内容'], dtype='object')]\n",
      "\n",
      "  pytables.to_hdf(\n"
     ]
    },
    {
     "name": "stdout",
     "output_type": "stream",
     "text": [
      "1 Adidas/阿迪达斯\n"
     ]
    },
    {
     "name": "stderr",
     "output_type": "stream",
     "text": [
      "C:\\Users\\rshe11\\Anaconda3\\lib\\site-packages\\pandas\\core\\generic.py:2703: PerformanceWarning: \n",
      "your performance may suffer as PyTables will pickle object types that it cannot\n",
      "map directly to c-types [inferred_type->mixed,key->block1_values] [items->Index(['品牌', '单品', '链接', 'MSRP', '评论内容'], dtype='object')]\n",
      "\n",
      "  pytables.to_hdf(\n"
     ]
    },
    {
     "name": "stdout",
     "output_type": "stream",
     "text": [
      "2 Allbirds\n",
      "3 ANTA/安踏\n"
     ]
    },
    {
     "name": "stderr",
     "output_type": "stream",
     "text": [
      "C:\\Users\\rshe11\\Anaconda3\\lib\\site-packages\\xlsxwriter\\worksheet.py:1177: UserWarning: Ignoring URL 'https://item.taobao.com/item.htm?&id=624890005141' since it exceeds Excel's limit of 65,530 URLS per worksheet.\n",
      "  warn(\"Ignoring URL '%s' since it exceeds Excel's limit of \"\n",
      "C:\\Users\\rshe11\\Anaconda3\\lib\\site-packages\\xlsxwriter\\worksheet.py:1177: UserWarning: Ignoring URL 'https://item.taobao.com/item.htm?&id=606901804587' since it exceeds Excel's limit of 65,530 URLS per worksheet.\n",
      "  warn(\"Ignoring URL '%s' since it exceeds Excel's limit of \"\n",
      "C:\\Users\\rshe11\\Anaconda3\\lib\\site-packages\\xlsxwriter\\worksheet.py:1177: UserWarning: Ignoring URL 'https://item.taobao.com/item.htm?&id=638060967933' since it exceeds Excel's limit of 65,530 URLS per worksheet.\n",
      "  warn(\"Ignoring URL '%s' since it exceeds Excel's limit of \"\n",
      "C:\\Users\\rshe11\\Anaconda3\\lib\\site-packages\\xlsxwriter\\worksheet.py:1177: UserWarning: Ignoring URL 'https://item.taobao.com/item.htm?&id=632272301323' since it exceeds Excel's limit of 65,530 URLS per worksheet.\n",
      "  warn(\"Ignoring URL '%s' since it exceeds Excel's limit of \"\n",
      "C:\\Users\\rshe11\\Anaconda3\\lib\\site-packages\\xlsxwriter\\worksheet.py:1177: UserWarning: Ignoring URL 'https://item.taobao.com/item.htm?&id=637956402125' since it exceeds Excel's limit of 65,530 URLS per worksheet.\n",
      "  warn(\"Ignoring URL '%s' since it exceeds Excel's limit of \"\n",
      "C:\\Users\\rshe11\\Anaconda3\\lib\\site-packages\\xlsxwriter\\worksheet.py:1177: UserWarning: Ignoring URL 'https://item.taobao.com/item.htm?&id=641105622538' since it exceeds Excel's limit of 65,530 URLS per worksheet.\n",
      "  warn(\"Ignoring URL '%s' since it exceeds Excel's limit of \"\n",
      "C:\\Users\\rshe11\\Anaconda3\\lib\\site-packages\\xlsxwriter\\worksheet.py:1177: UserWarning: Ignoring URL 'https://item.taobao.com/item.htm?&id=622587659816' since it exceeds Excel's limit of 65,530 URLS per worksheet.\n",
      "  warn(\"Ignoring URL '%s' since it exceeds Excel's limit of \"\n",
      "C:\\Users\\rshe11\\Anaconda3\\lib\\site-packages\\xlsxwriter\\worksheet.py:1177: UserWarning: Ignoring URL 'https://item.taobao.com/item.htm?&id=607595719976' since it exceeds Excel's limit of 65,530 URLS per worksheet.\n",
      "  warn(\"Ignoring URL '%s' since it exceeds Excel's limit of \"\n",
      "C:\\Users\\rshe11\\Anaconda3\\lib\\site-packages\\xlsxwriter\\worksheet.py:1177: UserWarning: Ignoring URL 'https://item.taobao.com/item.htm?&id=643583483702' since it exceeds Excel's limit of 65,530 URLS per worksheet.\n",
      "  warn(\"Ignoring URL '%s' since it exceeds Excel's limit of \"\n",
      "C:\\Users\\rshe11\\Anaconda3\\lib\\site-packages\\xlsxwriter\\worksheet.py:1177: UserWarning: Ignoring URL 'https://item.taobao.com/item.htm?&id=624210319844' since it exceeds Excel's limit of 65,530 URLS per worksheet.\n",
      "  warn(\"Ignoring URL '%s' since it exceeds Excel's limit of \"\n",
      "C:\\Users\\rshe11\\Anaconda3\\lib\\site-packages\\xlsxwriter\\worksheet.py:1177: UserWarning: Ignoring URL 'https://item.taobao.com/item.htm?&id=616477987073' since it exceeds Excel's limit of 65,530 URLS per worksheet.\n",
      "  warn(\"Ignoring URL '%s' since it exceeds Excel's limit of \"\n",
      "C:\\Users\\rshe11\\Anaconda3\\lib\\site-packages\\xlsxwriter\\worksheet.py:1177: UserWarning: Ignoring URL 'https://item.taobao.com/item.htm?&id=622973159130' since it exceeds Excel's limit of 65,530 URLS per worksheet.\n",
      "  warn(\"Ignoring URL '%s' since it exceeds Excel's limit of \"\n",
      "C:\\Users\\rshe11\\Anaconda3\\lib\\site-packages\\xlsxwriter\\worksheet.py:1177: UserWarning: Ignoring URL 'https://item.taobao.com/item.htm?&id=637637066691' since it exceeds Excel's limit of 65,530 URLS per worksheet.\n",
      "  warn(\"Ignoring URL '%s' since it exceeds Excel's limit of \"\n",
      "C:\\Users\\rshe11\\Anaconda3\\lib\\site-packages\\xlsxwriter\\worksheet.py:1177: UserWarning: Ignoring URL 'https://item.taobao.com/item.htm?&id=651456989338' since it exceeds Excel's limit of 65,530 URLS per worksheet.\n",
      "  warn(\"Ignoring URL '%s' since it exceeds Excel's limit of \"\n",
      "C:\\Users\\rshe11\\Anaconda3\\lib\\site-packages\\xlsxwriter\\worksheet.py:1177: UserWarning: Ignoring URL 'https://item.taobao.com/item.htm?&id=641135382330' since it exceeds Excel's limit of 65,530 URLS per worksheet.\n",
      "  warn(\"Ignoring URL '%s' since it exceeds Excel's limit of \"\n",
      "C:\\Users\\rshe11\\Anaconda3\\lib\\site-packages\\xlsxwriter\\worksheet.py:1177: UserWarning: Ignoring URL 'https://item.taobao.com/item.htm?&id=527462216784' since it exceeds Excel's limit of 65,530 URLS per worksheet.\n",
      "  warn(\"Ignoring URL '%s' since it exceeds Excel's limit of \"\n",
      "C:\\Users\\rshe11\\Anaconda3\\lib\\site-packages\\xlsxwriter\\worksheet.py:1177: UserWarning: Ignoring URL 'https://item.taobao.com/item.htm?&id=607595243106' since it exceeds Excel's limit of 65,530 URLS per worksheet.\n",
      "  warn(\"Ignoring URL '%s' since it exceeds Excel's limit of \"\n",
      "C:\\Users\\rshe11\\Anaconda3\\lib\\site-packages\\xlsxwriter\\worksheet.py:1177: UserWarning: Ignoring URL 'https://item.taobao.com/item.htm?&id=614016075463' since it exceeds Excel's limit of 65,530 URLS per worksheet.\n",
      "  warn(\"Ignoring URL '%s' since it exceeds Excel's limit of \"\n",
      "C:\\Users\\rshe11\\Anaconda3\\lib\\site-packages\\xlsxwriter\\worksheet.py:1177: UserWarning: Ignoring URL 'https://item.taobao.com/item.htm?&id=618336627052' since it exceeds Excel's limit of 65,530 URLS per worksheet.\n",
      "  warn(\"Ignoring URL '%s' since it exceeds Excel's limit of \"\n",
      "C:\\Users\\rshe11\\Anaconda3\\lib\\site-packages\\xlsxwriter\\worksheet.py:1177: UserWarning: Ignoring URL 'https://item.taobao.com/item.htm?&id=619552717418' since it exceeds Excel's limit of 65,530 URLS per worksheet.\n",
      "  warn(\"Ignoring URL '%s' since it exceeds Excel's limit of \"\n",
      "C:\\Users\\rshe11\\Anaconda3\\lib\\site-packages\\xlsxwriter\\worksheet.py:1177: UserWarning: Ignoring URL 'https://item.taobao.com/item.htm?&id=612498920286' since it exceeds Excel's limit of 65,530 URLS per worksheet.\n",
      "  warn(\"Ignoring URL '%s' since it exceeds Excel's limit of \"\n",
      "C:\\Users\\rshe11\\Anaconda3\\lib\\site-packages\\xlsxwriter\\worksheet.py:1177: UserWarning: Ignoring URL 'https://item.taobao.com/item.htm?&id=621520031977' since it exceeds Excel's limit of 65,530 URLS per worksheet.\n",
      "  warn(\"Ignoring URL '%s' since it exceeds Excel's limit of \"\n",
      "C:\\Users\\rshe11\\Anaconda3\\lib\\site-packages\\xlsxwriter\\worksheet.py:1177: UserWarning: Ignoring URL 'https://item.taobao.com/item.htm?&id=624928732554' since it exceeds Excel's limit of 65,530 URLS per worksheet.\n",
      "  warn(\"Ignoring URL '%s' since it exceeds Excel's limit of \"\n",
      "C:\\Users\\rshe11\\Anaconda3\\lib\\site-packages\\xlsxwriter\\worksheet.py:1177: UserWarning: Ignoring URL 'https://item.taobao.com/item.htm?&id=620939813558' since it exceeds Excel's limit of 65,530 URLS per worksheet.\n",
      "  warn(\"Ignoring URL '%s' since it exceeds Excel's limit of \"\n",
      "C:\\Users\\rshe11\\Anaconda3\\lib\\site-packages\\xlsxwriter\\worksheet.py:1177: UserWarning: Ignoring URL 'https://item.taobao.com/item.htm?&id=622929001901' since it exceeds Excel's limit of 65,530 URLS per worksheet.\n",
      "  warn(\"Ignoring URL '%s' since it exceeds Excel's limit of \"\n",
      "C:\\Users\\rshe11\\Anaconda3\\lib\\site-packages\\xlsxwriter\\worksheet.py:1177: UserWarning: Ignoring URL 'https://item.taobao.com/item.htm?&id=617808285259' since it exceeds Excel's limit of 65,530 URLS per worksheet.\n",
      "  warn(\"Ignoring URL '%s' since it exceeds Excel's limit of \"\n",
      "C:\\Users\\rshe11\\Anaconda3\\lib\\site-packages\\xlsxwriter\\worksheet.py:1177: UserWarning: Ignoring URL 'https://item.taobao.com/item.htm?&id=613524309961' since it exceeds Excel's limit of 65,530 URLS per worksheet.\n",
      "  warn(\"Ignoring URL '%s' since it exceeds Excel's limit of \"\n",
      "C:\\Users\\rshe11\\Anaconda3\\lib\\site-packages\\xlsxwriter\\worksheet.py:1177: UserWarning: Ignoring URL 'https://item.taobao.com/item.htm?&id=625826193195' since it exceeds Excel's limit of 65,530 URLS per worksheet.\n",
      "  warn(\"Ignoring URL '%s' since it exceeds Excel's limit of \"\n",
      "C:\\Users\\rshe11\\Anaconda3\\lib\\site-packages\\xlsxwriter\\worksheet.py:1177: UserWarning: Ignoring URL 'https://item.taobao.com/item.htm?&id=621226777654' since it exceeds Excel's limit of 65,530 URLS per worksheet.\n",
      "  warn(\"Ignoring URL '%s' since it exceeds Excel's limit of \"\n",
      "C:\\Users\\rshe11\\Anaconda3\\lib\\site-packages\\xlsxwriter\\worksheet.py:1177: UserWarning: Ignoring URL 'https://item.taobao.com/item.htm?&id=632437141888' since it exceeds Excel's limit of 65,530 URLS per worksheet.\n",
      "  warn(\"Ignoring URL '%s' since it exceeds Excel's limit of \"\n",
      "C:\\Users\\rshe11\\Anaconda3\\lib\\site-packages\\xlsxwriter\\worksheet.py:1177: UserWarning: Ignoring URL 'https://item.taobao.com/item.htm?&id=618335711480' since it exceeds Excel's limit of 65,530 URLS per worksheet.\n",
      "  warn(\"Ignoring URL '%s' since it exceeds Excel's limit of \"\n",
      "C:\\Users\\rshe11\\Anaconda3\\lib\\site-packages\\xlsxwriter\\worksheet.py:1177: UserWarning: Ignoring URL 'https://item.taobao.com/item.htm?&id=637956574233' since it exceeds Excel's limit of 65,530 URLS per worksheet.\n",
      "  warn(\"Ignoring URL '%s' since it exceeds Excel's limit of \"\n",
      "C:\\Users\\rshe11\\Anaconda3\\lib\\site-packages\\xlsxwriter\\worksheet.py:1177: UserWarning: Ignoring URL 'https://item.taobao.com/item.htm?&id=637622909120' since it exceeds Excel's limit of 65,530 URLS per worksheet.\n",
      "  warn(\"Ignoring URL '%s' since it exceeds Excel's limit of \"\n",
      "C:\\Users\\rshe11\\Anaconda3\\lib\\site-packages\\xlsxwriter\\worksheet.py:1177: UserWarning: Ignoring URL 'https://item.taobao.com/item.htm?&id=639258564115' since it exceeds Excel's limit of 65,530 URLS per worksheet.\n",
      "  warn(\"Ignoring URL '%s' since it exceeds Excel's limit of \"\n",
      "C:\\Users\\rshe11\\Anaconda3\\lib\\site-packages\\xlsxwriter\\worksheet.py:1177: UserWarning: Ignoring URL 'https://item.taobao.com/item.htm?&id=642448830455' since it exceeds Excel's limit of 65,530 URLS per worksheet.\n",
      "  warn(\"Ignoring URL '%s' since it exceeds Excel's limit of \"\n",
      "C:\\Users\\rshe11\\Anaconda3\\lib\\site-packages\\xlsxwriter\\worksheet.py:1177: UserWarning: Ignoring URL 'https://item.taobao.com/item.htm?&id=642799469238' since it exceeds Excel's limit of 65,530 URLS per worksheet.\n",
      "  warn(\"Ignoring URL '%s' since it exceeds Excel's limit of \"\n",
      "C:\\Users\\rshe11\\Anaconda3\\lib\\site-packages\\xlsxwriter\\worksheet.py:1177: UserWarning: Ignoring URL 'https://item.taobao.com/item.htm?&id=649995721916' since it exceeds Excel's limit of 65,530 URLS per worksheet.\n",
      "  warn(\"Ignoring URL '%s' since it exceeds Excel's limit of \"\n",
      "C:\\Users\\rshe11\\Anaconda3\\lib\\site-packages\\xlsxwriter\\worksheet.py:1177: UserWarning: Ignoring URL 'https://item.taobao.com/item.htm?&id=653749424810' since it exceeds Excel's limit of 65,530 URLS per worksheet.\n",
      "  warn(\"Ignoring URL '%s' since it exceeds Excel's limit of \"\n",
      "C:\\Users\\rshe11\\Anaconda3\\lib\\site-packages\\xlsxwriter\\worksheet.py:1177: UserWarning: Ignoring URL 'https://item.taobao.com/item.htm?&id=617444546768' since it exceeds Excel's limit of 65,530 URLS per worksheet.\n",
      "  warn(\"Ignoring URL '%s' since it exceeds Excel's limit of \"\n",
      "C:\\Users\\rshe11\\Anaconda3\\lib\\site-packages\\xlsxwriter\\worksheet.py:1177: UserWarning: Ignoring URL 'https://item.taobao.com/item.htm?&id=624261768862' since it exceeds Excel's limit of 65,530 URLS per worksheet.\n",
      "  warn(\"Ignoring URL '%s' since it exceeds Excel's limit of \"\n",
      "C:\\Users\\rshe11\\Anaconda3\\lib\\site-packages\\xlsxwriter\\worksheet.py:1177: UserWarning: Ignoring URL 'https://item.taobao.com/item.htm?&id=632911883213' since it exceeds Excel's limit of 65,530 URLS per worksheet.\n",
      "  warn(\"Ignoring URL '%s' since it exceeds Excel's limit of \"\n",
      "C:\\Users\\rshe11\\Anaconda3\\lib\\site-packages\\xlsxwriter\\worksheet.py:1177: UserWarning: Ignoring URL 'https://item.taobao.com/item.htm?&id=636262561019' since it exceeds Excel's limit of 65,530 URLS per worksheet.\n",
      "  warn(\"Ignoring URL '%s' since it exceeds Excel's limit of \"\n",
      "C:\\Users\\rshe11\\Anaconda3\\lib\\site-packages\\xlsxwriter\\worksheet.py:1177: UserWarning: Ignoring URL 'https://item.taobao.com/item.htm?&id=635325388515' since it exceeds Excel's limit of 65,530 URLS per worksheet.\n",
      "  warn(\"Ignoring URL '%s' since it exceeds Excel's limit of \"\n",
      "C:\\Users\\rshe11\\Anaconda3\\lib\\site-packages\\xlsxwriter\\worksheet.py:1177: UserWarning: Ignoring URL 'https://item.taobao.com/item.htm?&id=625483934190' since it exceeds Excel's limit of 65,530 URLS per worksheet.\n",
      "  warn(\"Ignoring URL '%s' since it exceeds Excel's limit of \"\n",
      "C:\\Users\\rshe11\\Anaconda3\\lib\\site-packages\\xlsxwriter\\worksheet.py:1177: UserWarning: Ignoring URL 'https://item.taobao.com/item.htm?&id=637732914024' since it exceeds Excel's limit of 65,530 URLS per worksheet.\n",
      "  warn(\"Ignoring URL '%s' since it exceeds Excel's limit of \"\n",
      "C:\\Users\\rshe11\\Anaconda3\\lib\\site-packages\\xlsxwriter\\worksheet.py:1177: UserWarning: Ignoring URL 'https://item.taobao.com/item.htm?&id=637261192923' since it exceeds Excel's limit of 65,530 URLS per worksheet.\n",
      "  warn(\"Ignoring URL '%s' since it exceeds Excel's limit of \"\n",
      "C:\\Users\\rshe11\\Anaconda3\\lib\\site-packages\\xlsxwriter\\worksheet.py:1177: UserWarning: Ignoring URL 'https://item.taobao.com/item.htm?&id=638285459335' since it exceeds Excel's limit of 65,530 URLS per worksheet.\n",
      "  warn(\"Ignoring URL '%s' since it exceeds Excel's limit of \"\n",
      "C:\\Users\\rshe11\\Anaconda3\\lib\\site-packages\\xlsxwriter\\worksheet.py:1177: UserWarning: Ignoring URL 'https://item.taobao.com/item.htm?&id=642909569112' since it exceeds Excel's limit of 65,530 URLS per worksheet.\n",
      "  warn(\"Ignoring URL '%s' since it exceeds Excel's limit of \"\n",
      "C:\\Users\\rshe11\\Anaconda3\\lib\\site-packages\\xlsxwriter\\worksheet.py:1177: UserWarning: Ignoring URL 'https://item.taobao.com/item.htm?&id=652348187179' since it exceeds Excel's limit of 65,530 URLS per worksheet.\n",
      "  warn(\"Ignoring URL '%s' since it exceeds Excel's limit of \"\n",
      "C:\\Users\\rshe11\\Anaconda3\\lib\\site-packages\\xlsxwriter\\worksheet.py:1177: UserWarning: Ignoring URL 'https://item.taobao.com/item.htm?&id=625536174157' since it exceeds Excel's limit of 65,530 URLS per worksheet.\n",
      "  warn(\"Ignoring URL '%s' since it exceeds Excel's limit of \"\n"
     ]
    },
    {
     "name": "stdout",
     "output_type": "stream",
     "text": [
      "4 Asics/亚瑟士\n",
      "5 Decathlon/迪卡侬\n",
      "6 Do－win/多威\n",
      "7 Ecco/爱步\n",
      "8 erke/鸿星尔克\n",
      "9 Fila/斐乐\n"
     ]
    },
    {
     "name": "stderr",
     "output_type": "stream",
     "text": [
      "C:\\Users\\rshe11\\Anaconda3\\lib\\site-packages\\xlsxwriter\\worksheet.py:1177: UserWarning: Ignoring URL 'https://item.taobao.com/item.htm?&id=618631078957' since it exceeds Excel's limit of 65,530 URLS per worksheet.\n",
      "  warn(\"Ignoring URL '%s' since it exceeds Excel's limit of \"\n",
      "C:\\Users\\rshe11\\Anaconda3\\lib\\site-packages\\xlsxwriter\\worksheet.py:1177: UserWarning: Ignoring URL 'https://item.taobao.com/item.htm?&id=622083419797' since it exceeds Excel's limit of 65,530 URLS per worksheet.\n",
      "  warn(\"Ignoring URL '%s' since it exceeds Excel's limit of \"\n",
      "C:\\Users\\rshe11\\Anaconda3\\lib\\site-packages\\xlsxwriter\\worksheet.py:1177: UserWarning: Ignoring URL 'https://item.taobao.com/item.htm?&id=594111698677' since it exceeds Excel's limit of 65,530 URLS per worksheet.\n",
      "  warn(\"Ignoring URL '%s' since it exceeds Excel's limit of \"\n",
      "C:\\Users\\rshe11\\Anaconda3\\lib\\site-packages\\xlsxwriter\\worksheet.py:1177: UserWarning: Ignoring URL 'https://item.taobao.com/item.htm?&id=619012116776' since it exceeds Excel's limit of 65,530 URLS per worksheet.\n",
      "  warn(\"Ignoring URL '%s' since it exceeds Excel's limit of \"\n",
      "C:\\Users\\rshe11\\Anaconda3\\lib\\site-packages\\xlsxwriter\\worksheet.py:1177: UserWarning: Ignoring URL 'https://item.taobao.com/item.htm?&id=603852751752' since it exceeds Excel's limit of 65,530 URLS per worksheet.\n",
      "  warn(\"Ignoring URL '%s' since it exceeds Excel's limit of \"\n",
      "C:\\Users\\rshe11\\Anaconda3\\lib\\site-packages\\xlsxwriter\\worksheet.py:1177: UserWarning: Ignoring URL 'https://item.taobao.com/item.htm?&id=625682365687' since it exceeds Excel's limit of 65,530 URLS per worksheet.\n",
      "  warn(\"Ignoring URL '%s' since it exceeds Excel's limit of \"\n",
      "C:\\Users\\rshe11\\Anaconda3\\lib\\site-packages\\xlsxwriter\\worksheet.py:1177: UserWarning: Ignoring URL 'https://item.taobao.com/item.htm?&id=606467514527' since it exceeds Excel's limit of 65,530 URLS per worksheet.\n",
      "  warn(\"Ignoring URL '%s' since it exceeds Excel's limit of \"\n",
      "C:\\Users\\rshe11\\Anaconda3\\lib\\site-packages\\xlsxwriter\\worksheet.py:1177: UserWarning: Ignoring URL 'https://item.taobao.com/item.htm?&id=617068815712' since it exceeds Excel's limit of 65,530 URLS per worksheet.\n",
      "  warn(\"Ignoring URL '%s' since it exceeds Excel's limit of \"\n",
      "C:\\Users\\rshe11\\Anaconda3\\lib\\site-packages\\xlsxwriter\\worksheet.py:1177: UserWarning: Ignoring URL 'https://item.taobao.com/item.htm?&id=612291445833' since it exceeds Excel's limit of 65,530 URLS per worksheet.\n",
      "  warn(\"Ignoring URL '%s' since it exceeds Excel's limit of \"\n",
      "C:\\Users\\rshe11\\Anaconda3\\lib\\site-packages\\xlsxwriter\\worksheet.py:1177: UserWarning: Ignoring URL 'https://item.taobao.com/item.htm?&id=633368811522' since it exceeds Excel's limit of 65,530 URLS per worksheet.\n",
      "  warn(\"Ignoring URL '%s' since it exceeds Excel's limit of \"\n",
      "C:\\Users\\rshe11\\Anaconda3\\lib\\site-packages\\xlsxwriter\\worksheet.py:1177: UserWarning: Ignoring URL 'https://item.taobao.com/item.htm?&id=631475497047' since it exceeds Excel's limit of 65,530 URLS per worksheet.\n",
      "  warn(\"Ignoring URL '%s' since it exceeds Excel's limit of \"\n",
      "C:\\Users\\rshe11\\Anaconda3\\lib\\site-packages\\xlsxwriter\\worksheet.py:1177: UserWarning: Ignoring URL 'https://item.taobao.com/item.htm?&id=636228907976' since it exceeds Excel's limit of 65,530 URLS per worksheet.\n",
      "  warn(\"Ignoring URL '%s' since it exceeds Excel's limit of \"\n",
      "C:\\Users\\rshe11\\Anaconda3\\lib\\site-packages\\xlsxwriter\\worksheet.py:1177: UserWarning: Ignoring URL 'https://item.taobao.com/item.htm?&id=636800585947' since it exceeds Excel's limit of 65,530 URLS per worksheet.\n",
      "  warn(\"Ignoring URL '%s' since it exceeds Excel's limit of \"\n",
      "C:\\Users\\rshe11\\Anaconda3\\lib\\site-packages\\xlsxwriter\\worksheet.py:1177: UserWarning: Ignoring URL 'https://item.taobao.com/item.htm?&id=637386228472' since it exceeds Excel's limit of 65,530 URLS per worksheet.\n",
      "  warn(\"Ignoring URL '%s' since it exceeds Excel's limit of \"\n",
      "C:\\Users\\rshe11\\Anaconda3\\lib\\site-packages\\xlsxwriter\\worksheet.py:1177: UserWarning: Ignoring URL 'https://item.taobao.com/item.htm?&id=635581305047' since it exceeds Excel's limit of 65,530 URLS per worksheet.\n",
      "  warn(\"Ignoring URL '%s' since it exceeds Excel's limit of \"\n",
      "C:\\Users\\rshe11\\Anaconda3\\lib\\site-packages\\xlsxwriter\\worksheet.py:1177: UserWarning: Ignoring URL 'https://item.taobao.com/item.htm?&id=631782566413' since it exceeds Excel's limit of 65,530 URLS per worksheet.\n",
      "  warn(\"Ignoring URL '%s' since it exceeds Excel's limit of \"\n",
      "C:\\Users\\rshe11\\Anaconda3\\lib\\site-packages\\xlsxwriter\\worksheet.py:1177: UserWarning: Ignoring URL 'https://item.taobao.com/item.htm?&id=635581057856' since it exceeds Excel's limit of 65,530 URLS per worksheet.\n",
      "  warn(\"Ignoring URL '%s' since it exceeds Excel's limit of \"\n",
      "C:\\Users\\rshe11\\Anaconda3\\lib\\site-packages\\xlsxwriter\\worksheet.py:1177: UserWarning: Ignoring URL 'https://item.taobao.com/item.htm?&id=622027825103' since it exceeds Excel's limit of 65,530 URLS per worksheet.\n",
      "  warn(\"Ignoring URL '%s' since it exceeds Excel's limit of \"\n",
      "C:\\Users\\rshe11\\Anaconda3\\lib\\site-packages\\xlsxwriter\\worksheet.py:1177: UserWarning: Ignoring URL 'https://item.taobao.com/item.htm?&id=617044151598' since it exceeds Excel's limit of 65,530 URLS per worksheet.\n",
      "  warn(\"Ignoring URL '%s' since it exceeds Excel's limit of \"\n",
      "C:\\Users\\rshe11\\Anaconda3\\lib\\site-packages\\xlsxwriter\\worksheet.py:1177: UserWarning: Ignoring URL 'https://item.taobao.com/item.htm?&id=639906692928' since it exceeds Excel's limit of 65,530 URLS per worksheet.\n",
      "  warn(\"Ignoring URL '%s' since it exceeds Excel's limit of \"\n",
      "C:\\Users\\rshe11\\Anaconda3\\lib\\site-packages\\xlsxwriter\\worksheet.py:1177: UserWarning: Ignoring URL 'https://item.taobao.com/item.htm?&id=638406931130' since it exceeds Excel's limit of 65,530 URLS per worksheet.\n",
      "  warn(\"Ignoring URL '%s' since it exceeds Excel's limit of \"\n",
      "C:\\Users\\rshe11\\Anaconda3\\lib\\site-packages\\xlsxwriter\\worksheet.py:1177: UserWarning: Ignoring URL 'https://item.taobao.com/item.htm?&id=607838408274' since it exceeds Excel's limit of 65,530 URLS per worksheet.\n",
      "  warn(\"Ignoring URL '%s' since it exceeds Excel's limit of \"\n",
      "C:\\Users\\rshe11\\Anaconda3\\lib\\site-packages\\xlsxwriter\\worksheet.py:1177: UserWarning: Ignoring URL 'https://item.taobao.com/item.htm?&id=618701038460' since it exceeds Excel's limit of 65,530 URLS per worksheet.\n",
      "  warn(\"Ignoring URL '%s' since it exceeds Excel's limit of \"\n",
      "C:\\Users\\rshe11\\Anaconda3\\lib\\site-packages\\xlsxwriter\\worksheet.py:1177: UserWarning: Ignoring URL 'https://item.taobao.com/item.htm?&id=637383192954' since it exceeds Excel's limit of 65,530 URLS per worksheet.\n",
      "  warn(\"Ignoring URL '%s' since it exceeds Excel's limit of \"\n",
      "C:\\Users\\rshe11\\Anaconda3\\lib\\site-packages\\xlsxwriter\\worksheet.py:1177: UserWarning: Ignoring URL 'https://item.taobao.com/item.htm?&id=633912834319' since it exceeds Excel's limit of 65,530 URLS per worksheet.\n",
      "  warn(\"Ignoring URL '%s' since it exceeds Excel's limit of \"\n",
      "C:\\Users\\rshe11\\Anaconda3\\lib\\site-packages\\xlsxwriter\\worksheet.py:1177: UserWarning: Ignoring URL 'https://item.taobao.com/item.htm?&id=641536651354' since it exceeds Excel's limit of 65,530 URLS per worksheet.\n",
      "  warn(\"Ignoring URL '%s' since it exceeds Excel's limit of \"\n",
      "C:\\Users\\rshe11\\Anaconda3\\lib\\site-packages\\xlsxwriter\\worksheet.py:1177: UserWarning: Ignoring URL 'https://item.taobao.com/item.htm?&id=628473196487' since it exceeds Excel's limit of 65,530 URLS per worksheet.\n",
      "  warn(\"Ignoring URL '%s' since it exceeds Excel's limit of \"\n",
      "C:\\Users\\rshe11\\Anaconda3\\lib\\site-packages\\xlsxwriter\\worksheet.py:1177: UserWarning: Ignoring URL 'https://item.taobao.com/item.htm?&id=636931048702' since it exceeds Excel's limit of 65,530 URLS per worksheet.\n",
      "  warn(\"Ignoring URL '%s' since it exceeds Excel's limit of \"\n",
      "C:\\Users\\rshe11\\Anaconda3\\lib\\site-packages\\xlsxwriter\\worksheet.py:1177: UserWarning: Ignoring URL 'https://item.taobao.com/item.htm?&id=630201798518' since it exceeds Excel's limit of 65,530 URLS per worksheet.\n",
      "  warn(\"Ignoring URL '%s' since it exceeds Excel's limit of \"\n",
      "C:\\Users\\rshe11\\Anaconda3\\lib\\site-packages\\xlsxwriter\\worksheet.py:1177: UserWarning: Ignoring URL 'https://item.taobao.com/item.htm?&id=637242732515' since it exceeds Excel's limit of 65,530 URLS per worksheet.\n",
      "  warn(\"Ignoring URL '%s' since it exceeds Excel's limit of \"\n",
      "C:\\Users\\rshe11\\Anaconda3\\lib\\site-packages\\xlsxwriter\\worksheet.py:1177: UserWarning: Ignoring URL 'https://item.taobao.com/item.htm?&id=637452931856' since it exceeds Excel's limit of 65,530 URLS per worksheet.\n",
      "  warn(\"Ignoring URL '%s' since it exceeds Excel's limit of \"\n",
      "C:\\Users\\rshe11\\Anaconda3\\lib\\site-packages\\xlsxwriter\\worksheet.py:1177: UserWarning: Ignoring URL 'https://item.taobao.com/item.htm?&id=631130076412' since it exceeds Excel's limit of 65,530 URLS per worksheet.\n",
      "  warn(\"Ignoring URL '%s' since it exceeds Excel's limit of \"\n",
      "C:\\Users\\rshe11\\Anaconda3\\lib\\site-packages\\xlsxwriter\\worksheet.py:1177: UserWarning: Ignoring URL 'https://item.taobao.com/item.htm?&id=637432836596' since it exceeds Excel's limit of 65,530 URLS per worksheet.\n",
      "  warn(\"Ignoring URL '%s' since it exceeds Excel's limit of \"\n",
      "C:\\Users\\rshe11\\Anaconda3\\lib\\site-packages\\xlsxwriter\\worksheet.py:1177: UserWarning: Ignoring URL 'https://item.taobao.com/item.htm?&id=631681251930' since it exceeds Excel's limit of 65,530 URLS per worksheet.\n",
      "  warn(\"Ignoring URL '%s' since it exceeds Excel's limit of \"\n",
      "C:\\Users\\rshe11\\Anaconda3\\lib\\site-packages\\xlsxwriter\\worksheet.py:1177: UserWarning: Ignoring URL 'https://item.taobao.com/item.htm?&id=637385552988' since it exceeds Excel's limit of 65,530 URLS per worksheet.\n",
      "  warn(\"Ignoring URL '%s' since it exceeds Excel's limit of \"\n",
      "C:\\Users\\rshe11\\Anaconda3\\lib\\site-packages\\xlsxwriter\\worksheet.py:1177: UserWarning: Ignoring URL 'https://item.taobao.com/item.htm?&id=652690009768' since it exceeds Excel's limit of 65,530 URLS per worksheet.\n",
      "  warn(\"Ignoring URL '%s' since it exceeds Excel's limit of \"\n",
      "C:\\Users\\rshe11\\Anaconda3\\lib\\site-packages\\xlsxwriter\\worksheet.py:1177: UserWarning: Ignoring URL 'https://item.taobao.com/item.htm?&id=641874887898' since it exceeds Excel's limit of 65,530 URLS per worksheet.\n",
      "  warn(\"Ignoring URL '%s' since it exceeds Excel's limit of \"\n",
      "C:\\Users\\rshe11\\Anaconda3\\lib\\site-packages\\xlsxwriter\\worksheet.py:1177: UserWarning: Ignoring URL 'https://item.taobao.com/item.htm?&id=654826013986' since it exceeds Excel's limit of 65,530 URLS per worksheet.\n",
      "  warn(\"Ignoring URL '%s' since it exceeds Excel's limit of \"\n",
      "C:\\Users\\rshe11\\Anaconda3\\lib\\site-packages\\xlsxwriter\\worksheet.py:1177: UserWarning: Ignoring URL 'https://item.taobao.com/item.htm?&id=643760849190' since it exceeds Excel's limit of 65,530 URLS per worksheet.\n",
      "  warn(\"Ignoring URL '%s' since it exceeds Excel's limit of \"\n",
      "C:\\Users\\rshe11\\Anaconda3\\lib\\site-packages\\xlsxwriter\\worksheet.py:1177: UserWarning: Ignoring URL 'https://item.taobao.com/item.htm?&id=633973010330' since it exceeds Excel's limit of 65,530 URLS per worksheet.\n",
      "  warn(\"Ignoring URL '%s' since it exceeds Excel's limit of \"\n",
      "C:\\Users\\rshe11\\Anaconda3\\lib\\site-packages\\xlsxwriter\\worksheet.py:1177: UserWarning: Ignoring URL 'https://item.taobao.com/item.htm?&id=651335463769' since it exceeds Excel's limit of 65,530 URLS per worksheet.\n",
      "  warn(\"Ignoring URL '%s' since it exceeds Excel's limit of \"\n",
      "C:\\Users\\rshe11\\Anaconda3\\lib\\site-packages\\xlsxwriter\\worksheet.py:1177: UserWarning: Ignoring URL 'https://item.taobao.com/item.htm?&id=647884199447' since it exceeds Excel's limit of 65,530 URLS per worksheet.\n",
      "  warn(\"Ignoring URL '%s' since it exceeds Excel's limit of \"\n",
      "C:\\Users\\rshe11\\Anaconda3\\lib\\site-packages\\xlsxwriter\\worksheet.py:1177: UserWarning: Ignoring URL 'https://item.taobao.com/item.htm?&id=592395592759' since it exceeds Excel's limit of 65,530 URLS per worksheet.\n",
      "  warn(\"Ignoring URL '%s' since it exceeds Excel's limit of \"\n",
      "C:\\Users\\rshe11\\Anaconda3\\lib\\site-packages\\xlsxwriter\\worksheet.py:1177: UserWarning: Ignoring URL 'https://item.taobao.com/item.htm?&id=610674327669' since it exceeds Excel's limit of 65,530 URLS per worksheet.\n",
      "  warn(\"Ignoring URL '%s' since it exceeds Excel's limit of \"\n",
      "C:\\Users\\rshe11\\Anaconda3\\lib\\site-packages\\xlsxwriter\\worksheet.py:1177: UserWarning: Ignoring URL 'https://item.taobao.com/item.htm?&id=621816966454' since it exceeds Excel's limit of 65,530 URLS per worksheet.\n",
      "  warn(\"Ignoring URL '%s' since it exceeds Excel's limit of \"\n",
      "C:\\Users\\rshe11\\Anaconda3\\lib\\site-packages\\xlsxwriter\\worksheet.py:1177: UserWarning: Ignoring URL 'https://item.taobao.com/item.htm?&id=634598265710' since it exceeds Excel's limit of 65,530 URLS per worksheet.\n",
      "  warn(\"Ignoring URL '%s' since it exceeds Excel's limit of \"\n",
      "C:\\Users\\rshe11\\Anaconda3\\lib\\site-packages\\xlsxwriter\\worksheet.py:1177: UserWarning: Ignoring URL 'https://item.taobao.com/item.htm?&id=637455895681' since it exceeds Excel's limit of 65,530 URLS per worksheet.\n",
      "  warn(\"Ignoring URL '%s' since it exceeds Excel's limit of \"\n",
      "C:\\Users\\rshe11\\Anaconda3\\lib\\site-packages\\xlsxwriter\\worksheet.py:1177: UserWarning: Ignoring URL 'https://item.taobao.com/item.htm?&id=631129416858' since it exceeds Excel's limit of 65,530 URLS per worksheet.\n",
      "  warn(\"Ignoring URL '%s' since it exceeds Excel's limit of \"\n",
      "C:\\Users\\rshe11\\Anaconda3\\lib\\site-packages\\xlsxwriter\\worksheet.py:1177: UserWarning: Ignoring URL 'https://item.taobao.com/item.htm?&id=635825108915' since it exceeds Excel's limit of 65,530 URLS per worksheet.\n",
      "  warn(\"Ignoring URL '%s' since it exceeds Excel's limit of \"\n",
      "C:\\Users\\rshe11\\Anaconda3\\lib\\site-packages\\xlsxwriter\\worksheet.py:1177: UserWarning: Ignoring URL 'https://item.taobao.com/item.htm?&id=650185032923' since it exceeds Excel's limit of 65,530 URLS per worksheet.\n",
      "  warn(\"Ignoring URL '%s' since it exceeds Excel's limit of \"\n"
     ]
    },
    {
     "name": "stdout",
     "output_type": "stream",
     "text": [
      "10 Hoka OneOne\n",
      "11 Lining/李宁\n"
     ]
    },
    {
     "name": "stderr",
     "output_type": "stream",
     "text": [
      "C:\\Users\\rshe11\\Anaconda3\\lib\\site-packages\\xlsxwriter\\worksheet.py:1177: UserWarning: Ignoring URL 'https://item.taobao.com/item.htm?&id=551142742055' since it exceeds Excel's limit of 65,530 URLS per worksheet.\n",
      "  warn(\"Ignoring URL '%s' since it exceeds Excel's limit of \"\n",
      "C:\\Users\\rshe11\\Anaconda3\\lib\\site-packages\\xlsxwriter\\worksheet.py:1177: UserWarning: Ignoring URL 'https://item.taobao.com/item.htm?&id=612435638377' since it exceeds Excel's limit of 65,530 URLS per worksheet.\n",
      "  warn(\"Ignoring URL '%s' since it exceeds Excel's limit of \"\n",
      "C:\\Users\\rshe11\\Anaconda3\\lib\\site-packages\\xlsxwriter\\worksheet.py:1177: UserWarning: Ignoring URL 'https://item.taobao.com/item.htm?&id=601689124687' since it exceeds Excel's limit of 65,530 URLS per worksheet.\n",
      "  warn(\"Ignoring URL '%s' since it exceeds Excel's limit of \"\n",
      "C:\\Users\\rshe11\\Anaconda3\\lib\\site-packages\\xlsxwriter\\worksheet.py:1177: UserWarning: Ignoring URL 'https://item.taobao.com/item.htm?&id=612677719029' since it exceeds Excel's limit of 65,530 URLS per worksheet.\n",
      "  warn(\"Ignoring URL '%s' since it exceeds Excel's limit of \"\n",
      "C:\\Users\\rshe11\\Anaconda3\\lib\\site-packages\\xlsxwriter\\worksheet.py:1177: UserWarning: Ignoring URL 'https://item.taobao.com/item.htm?&id=613939408630' since it exceeds Excel's limit of 65,530 URLS per worksheet.\n",
      "  warn(\"Ignoring URL '%s' since it exceeds Excel's limit of \"\n",
      "C:\\Users\\rshe11\\Anaconda3\\lib\\site-packages\\xlsxwriter\\worksheet.py:1177: UserWarning: Ignoring URL 'https://item.taobao.com/item.htm?&id=589454564762' since it exceeds Excel's limit of 65,530 URLS per worksheet.\n",
      "  warn(\"Ignoring URL '%s' since it exceeds Excel's limit of \"\n",
      "C:\\Users\\rshe11\\Anaconda3\\lib\\site-packages\\xlsxwriter\\worksheet.py:1177: UserWarning: Ignoring URL 'https://item.taobao.com/item.htm?&id=634057614101' since it exceeds Excel's limit of 65,530 URLS per worksheet.\n",
      "  warn(\"Ignoring URL '%s' since it exceeds Excel's limit of \"\n",
      "C:\\Users\\rshe11\\Anaconda3\\lib\\site-packages\\xlsxwriter\\worksheet.py:1177: UserWarning: Ignoring URL 'https://item.taobao.com/item.htm?&id=526226569960' since it exceeds Excel's limit of 65,530 URLS per worksheet.\n",
      "  warn(\"Ignoring URL '%s' since it exceeds Excel's limit of \"\n",
      "C:\\Users\\rshe11\\Anaconda3\\lib\\site-packages\\xlsxwriter\\worksheet.py:1177: UserWarning: Ignoring URL 'https://item.taobao.com/item.htm?&id=594796667470' since it exceeds Excel's limit of 65,530 URLS per worksheet.\n",
      "  warn(\"Ignoring URL '%s' since it exceeds Excel's limit of \"\n",
      "C:\\Users\\rshe11\\Anaconda3\\lib\\site-packages\\xlsxwriter\\worksheet.py:1177: UserWarning: Ignoring URL 'https://item.taobao.com/item.htm?&id=610987492706' since it exceeds Excel's limit of 65,530 URLS per worksheet.\n",
      "  warn(\"Ignoring URL '%s' since it exceeds Excel's limit of \"\n",
      "C:\\Users\\rshe11\\Anaconda3\\lib\\site-packages\\xlsxwriter\\worksheet.py:1177: UserWarning: Ignoring URL 'https://item.taobao.com/item.htm?&id=610947307551' since it exceeds Excel's limit of 65,530 URLS per worksheet.\n",
      "  warn(\"Ignoring URL '%s' since it exceeds Excel's limit of \"\n",
      "C:\\Users\\rshe11\\Anaconda3\\lib\\site-packages\\xlsxwriter\\worksheet.py:1177: UserWarning: Ignoring URL 'https://item.taobao.com/item.htm?&id=637832495376' since it exceeds Excel's limit of 65,530 URLS per worksheet.\n",
      "  warn(\"Ignoring URL '%s' since it exceeds Excel's limit of \"\n",
      "C:\\Users\\rshe11\\Anaconda3\\lib\\site-packages\\xlsxwriter\\worksheet.py:1177: UserWarning: Ignoring URL 'https://item.taobao.com/item.htm?&id=634372583712' since it exceeds Excel's limit of 65,530 URLS per worksheet.\n",
      "  warn(\"Ignoring URL '%s' since it exceeds Excel's limit of \"\n",
      "C:\\Users\\rshe11\\Anaconda3\\lib\\site-packages\\xlsxwriter\\worksheet.py:1177: UserWarning: Ignoring URL 'https://item.taobao.com/item.htm?&id=623382770277' since it exceeds Excel's limit of 65,530 URLS per worksheet.\n",
      "  warn(\"Ignoring URL '%s' since it exceeds Excel's limit of \"\n",
      "C:\\Users\\rshe11\\Anaconda3\\lib\\site-packages\\xlsxwriter\\worksheet.py:1177: UserWarning: Ignoring URL 'https://item.taobao.com/item.htm?&id=611835293296' since it exceeds Excel's limit of 65,530 URLS per worksheet.\n",
      "  warn(\"Ignoring URL '%s' since it exceeds Excel's limit of \"\n",
      "C:\\Users\\rshe11\\Anaconda3\\lib\\site-packages\\xlsxwriter\\worksheet.py:1177: UserWarning: Ignoring URL 'https://item.taobao.com/item.htm?&id=600820529954' since it exceeds Excel's limit of 65,530 URLS per worksheet.\n",
      "  warn(\"Ignoring URL '%s' since it exceeds Excel's limit of \"\n",
      "C:\\Users\\rshe11\\Anaconda3\\lib\\site-packages\\xlsxwriter\\worksheet.py:1177: UserWarning: Ignoring URL 'https://item.taobao.com/item.htm?&id=643102260091' since it exceeds Excel's limit of 65,530 URLS per worksheet.\n",
      "  warn(\"Ignoring URL '%s' since it exceeds Excel's limit of \"\n",
      "C:\\Users\\rshe11\\Anaconda3\\lib\\site-packages\\xlsxwriter\\worksheet.py:1177: UserWarning: Ignoring URL 'https://item.taobao.com/item.htm?&id=526273260890' since it exceeds Excel's limit of 65,530 URLS per worksheet.\n",
      "  warn(\"Ignoring URL '%s' since it exceeds Excel's limit of \"\n",
      "C:\\Users\\rshe11\\Anaconda3\\lib\\site-packages\\xlsxwriter\\worksheet.py:1177: UserWarning: Ignoring URL 'https://item.taobao.com/item.htm?&id=585470202159' since it exceeds Excel's limit of 65,530 URLS per worksheet.\n",
      "  warn(\"Ignoring URL '%s' since it exceeds Excel's limit of \"\n",
      "C:\\Users\\rshe11\\Anaconda3\\lib\\site-packages\\xlsxwriter\\worksheet.py:1177: UserWarning: Ignoring URL 'https://item.taobao.com/item.htm?&id=596071044616' since it exceeds Excel's limit of 65,530 URLS per worksheet.\n",
      "  warn(\"Ignoring URL '%s' since it exceeds Excel's limit of \"\n",
      "C:\\Users\\rshe11\\Anaconda3\\lib\\site-packages\\xlsxwriter\\worksheet.py:1177: UserWarning: Ignoring URL 'https://item.taobao.com/item.htm?&id=608964154218' since it exceeds Excel's limit of 65,530 URLS per worksheet.\n",
      "  warn(\"Ignoring URL '%s' since it exceeds Excel's limit of \"\n",
      "C:\\Users\\rshe11\\Anaconda3\\lib\\site-packages\\xlsxwriter\\worksheet.py:1177: UserWarning: Ignoring URL 'https://item.taobao.com/item.htm?&id=616161563996' since it exceeds Excel's limit of 65,530 URLS per worksheet.\n",
      "  warn(\"Ignoring URL '%s' since it exceeds Excel's limit of \"\n",
      "C:\\Users\\rshe11\\Anaconda3\\lib\\site-packages\\xlsxwriter\\worksheet.py:1177: UserWarning: Ignoring URL 'https://item.taobao.com/item.htm?&id=631446896555' since it exceeds Excel's limit of 65,530 URLS per worksheet.\n",
      "  warn(\"Ignoring URL '%s' since it exceeds Excel's limit of \"\n",
      "C:\\Users\\rshe11\\Anaconda3\\lib\\site-packages\\xlsxwriter\\worksheet.py:1177: UserWarning: Ignoring URL 'https://item.taobao.com/item.htm?&id=633306044115' since it exceeds Excel's limit of 65,530 URLS per worksheet.\n",
      "  warn(\"Ignoring URL '%s' since it exceeds Excel's limit of \"\n",
      "C:\\Users\\rshe11\\Anaconda3\\lib\\site-packages\\xlsxwriter\\worksheet.py:1177: UserWarning: Ignoring URL 'https://item.taobao.com/item.htm?&id=636928615086' since it exceeds Excel's limit of 65,530 URLS per worksheet.\n",
      "  warn(\"Ignoring URL '%s' since it exceeds Excel's limit of \"\n",
      "C:\\Users\\rshe11\\Anaconda3\\lib\\site-packages\\xlsxwriter\\worksheet.py:1177: UserWarning: Ignoring URL 'https://item.taobao.com/item.htm?&id=624345933763' since it exceeds Excel's limit of 65,530 URLS per worksheet.\n",
      "  warn(\"Ignoring URL '%s' since it exceeds Excel's limit of \"\n",
      "C:\\Users\\rshe11\\Anaconda3\\lib\\site-packages\\xlsxwriter\\worksheet.py:1177: UserWarning: Ignoring URL 'https://item.taobao.com/item.htm?&id=633305716622' since it exceeds Excel's limit of 65,530 URLS per worksheet.\n",
      "  warn(\"Ignoring URL '%s' since it exceeds Excel's limit of \"\n",
      "C:\\Users\\rshe11\\Anaconda3\\lib\\site-packages\\xlsxwriter\\worksheet.py:1177: UserWarning: Ignoring URL 'https://item.taobao.com/item.htm?&id=627430430907' since it exceeds Excel's limit of 65,530 URLS per worksheet.\n",
      "  warn(\"Ignoring URL '%s' since it exceeds Excel's limit of \"\n",
      "C:\\Users\\rshe11\\Anaconda3\\lib\\site-packages\\xlsxwriter\\worksheet.py:1177: UserWarning: Ignoring URL 'https://item.taobao.com/item.htm?&id=633395108633' since it exceeds Excel's limit of 65,530 URLS per worksheet.\n",
      "  warn(\"Ignoring URL '%s' since it exceeds Excel's limit of \"\n",
      "C:\\Users\\rshe11\\Anaconda3\\lib\\site-packages\\xlsxwriter\\worksheet.py:1177: UserWarning: Ignoring URL 'https://item.taobao.com/item.htm?&id=636655344411' since it exceeds Excel's limit of 65,530 URLS per worksheet.\n",
      "  warn(\"Ignoring URL '%s' since it exceeds Excel's limit of \"\n",
      "C:\\Users\\rshe11\\Anaconda3\\lib\\site-packages\\xlsxwriter\\worksheet.py:1177: UserWarning: Ignoring URL 'https://item.taobao.com/item.htm?&id=589377425470' since it exceeds Excel's limit of 65,530 URLS per worksheet.\n",
      "  warn(\"Ignoring URL '%s' since it exceeds Excel's limit of \"\n",
      "C:\\Users\\rshe11\\Anaconda3\\lib\\site-packages\\xlsxwriter\\worksheet.py:1177: UserWarning: Ignoring URL 'https://item.taobao.com/item.htm?&id=610231492591' since it exceeds Excel's limit of 65,530 URLS per worksheet.\n",
      "  warn(\"Ignoring URL '%s' since it exceeds Excel's limit of \"\n",
      "C:\\Users\\rshe11\\Anaconda3\\lib\\site-packages\\xlsxwriter\\worksheet.py:1177: UserWarning: Ignoring URL 'https://item.taobao.com/item.htm?&id=623649960146' since it exceeds Excel's limit of 65,530 URLS per worksheet.\n",
      "  warn(\"Ignoring URL '%s' since it exceeds Excel's limit of \"\n",
      "C:\\Users\\rshe11\\Anaconda3\\lib\\site-packages\\xlsxwriter\\worksheet.py:1177: UserWarning: Ignoring URL 'https://item.taobao.com/item.htm?&id=624820842611' since it exceeds Excel's limit of 65,530 URLS per worksheet.\n",
      "  warn(\"Ignoring URL '%s' since it exceeds Excel's limit of \"\n",
      "C:\\Users\\rshe11\\Anaconda3\\lib\\site-packages\\xlsxwriter\\worksheet.py:1177: UserWarning: Ignoring URL 'https://item.taobao.com/item.htm?&id=633657465321' since it exceeds Excel's limit of 65,530 URLS per worksheet.\n",
      "  warn(\"Ignoring URL '%s' since it exceeds Excel's limit of \"\n",
      "C:\\Users\\rshe11\\Anaconda3\\lib\\site-packages\\xlsxwriter\\worksheet.py:1177: UserWarning: Ignoring URL 'https://item.taobao.com/item.htm?&id=637618873685' since it exceeds Excel's limit of 65,530 URLS per worksheet.\n",
      "  warn(\"Ignoring URL '%s' since it exceeds Excel's limit of \"\n",
      "C:\\Users\\rshe11\\Anaconda3\\lib\\site-packages\\xlsxwriter\\worksheet.py:1177: UserWarning: Ignoring URL 'https://item.taobao.com/item.htm?&id=610744454349' since it exceeds Excel's limit of 65,530 URLS per worksheet.\n",
      "  warn(\"Ignoring URL '%s' since it exceeds Excel's limit of \"\n",
      "C:\\Users\\rshe11\\Anaconda3\\lib\\site-packages\\xlsxwriter\\worksheet.py:1177: UserWarning: Ignoring URL 'https://item.taobao.com/item.htm?&id=633305804383' since it exceeds Excel's limit of 65,530 URLS per worksheet.\n",
      "  warn(\"Ignoring URL '%s' since it exceeds Excel's limit of \"\n",
      "C:\\Users\\rshe11\\Anaconda3\\lib\\site-packages\\xlsxwriter\\worksheet.py:1177: UserWarning: Ignoring URL 'https://item.taobao.com/item.htm?&id=636599938798' since it exceeds Excel's limit of 65,530 URLS per worksheet.\n",
      "  warn(\"Ignoring URL '%s' since it exceeds Excel's limit of \"\n",
      "C:\\Users\\rshe11\\Anaconda3\\lib\\site-packages\\xlsxwriter\\worksheet.py:1177: UserWarning: Ignoring URL 'https://item.taobao.com/item.htm?&id=633740629687' since it exceeds Excel's limit of 65,530 URLS per worksheet.\n",
      "  warn(\"Ignoring URL '%s' since it exceeds Excel's limit of \"\n",
      "C:\\Users\\rshe11\\Anaconda3\\lib\\site-packages\\xlsxwriter\\worksheet.py:1177: UserWarning: Ignoring URL 'https://item.taobao.com/item.htm?&id=609167374339' since it exceeds Excel's limit of 65,530 URLS per worksheet.\n",
      "  warn(\"Ignoring URL '%s' since it exceeds Excel's limit of \"\n",
      "C:\\Users\\rshe11\\Anaconda3\\lib\\site-packages\\xlsxwriter\\worksheet.py:1177: UserWarning: Ignoring URL 'https://item.taobao.com/item.htm?&id=637854803628' since it exceeds Excel's limit of 65,530 URLS per worksheet.\n",
      "  warn(\"Ignoring URL '%s' since it exceeds Excel's limit of \"\n",
      "C:\\Users\\rshe11\\Anaconda3\\lib\\site-packages\\xlsxwriter\\worksheet.py:1177: UserWarning: Ignoring URL 'https://item.taobao.com/item.htm?&id=633516575029' since it exceeds Excel's limit of 65,530 URLS per worksheet.\n",
      "  warn(\"Ignoring URL '%s' since it exceeds Excel's limit of \"\n",
      "C:\\Users\\rshe11\\Anaconda3\\lib\\site-packages\\xlsxwriter\\worksheet.py:1177: UserWarning: Ignoring URL 'https://item.taobao.com/item.htm?&id=632539096142' since it exceeds Excel's limit of 65,530 URLS per worksheet.\n",
      "  warn(\"Ignoring URL '%s' since it exceeds Excel's limit of \"\n",
      "C:\\Users\\rshe11\\Anaconda3\\lib\\site-packages\\xlsxwriter\\worksheet.py:1177: UserWarning: Ignoring URL 'https://item.taobao.com/item.htm?&id=637444005086' since it exceeds Excel's limit of 65,530 URLS per worksheet.\n",
      "  warn(\"Ignoring URL '%s' since it exceeds Excel's limit of \"\n",
      "C:\\Users\\rshe11\\Anaconda3\\lib\\site-packages\\xlsxwriter\\worksheet.py:1177: UserWarning: Ignoring URL 'https://item.taobao.com/item.htm?&id=637174293470' since it exceeds Excel's limit of 65,530 URLS per worksheet.\n",
      "  warn(\"Ignoring URL '%s' since it exceeds Excel's limit of \"\n",
      "C:\\Users\\rshe11\\Anaconda3\\lib\\site-packages\\xlsxwriter\\worksheet.py:1177: UserWarning: Ignoring URL 'https://item.taobao.com/item.htm?&id=624039286168' since it exceeds Excel's limit of 65,530 URLS per worksheet.\n",
      "  warn(\"Ignoring URL '%s' since it exceeds Excel's limit of \"\n",
      "C:\\Users\\rshe11\\Anaconda3\\lib\\site-packages\\xlsxwriter\\worksheet.py:1177: UserWarning: Ignoring URL 'https://item.taobao.com/item.htm?&id=644808038819' since it exceeds Excel's limit of 65,530 URLS per worksheet.\n",
      "  warn(\"Ignoring URL '%s' since it exceeds Excel's limit of \"\n"
     ]
    },
    {
     "name": "stderr",
     "output_type": "stream",
     "text": [
      "C:\\Users\\rshe11\\Anaconda3\\lib\\site-packages\\xlsxwriter\\worksheet.py:1177: UserWarning: Ignoring URL 'https://item.taobao.com/item.htm?&id=656643803142' since it exceeds Excel's limit of 65,530 URLS per worksheet.\n",
      "  warn(\"Ignoring URL '%s' since it exceeds Excel's limit of \"\n",
      "C:\\Users\\rshe11\\Anaconda3\\lib\\site-packages\\xlsxwriter\\worksheet.py:1177: UserWarning: Ignoring URL 'https://item.taobao.com/item.htm?&id=653632470647' since it exceeds Excel's limit of 65,530 URLS per worksheet.\n",
      "  warn(\"Ignoring URL '%s' since it exceeds Excel's limit of \"\n",
      "C:\\Users\\rshe11\\Anaconda3\\lib\\site-packages\\xlsxwriter\\worksheet.py:1177: UserWarning: Ignoring URL 'https://item.taobao.com/item.htm?&id=653314272569' since it exceeds Excel's limit of 65,530 URLS per worksheet.\n",
      "  warn(\"Ignoring URL '%s' since it exceeds Excel's limit of \"\n",
      "C:\\Users\\rshe11\\Anaconda3\\lib\\site-packages\\xlsxwriter\\worksheet.py:1177: UserWarning: Ignoring URL 'https://item.taobao.com/item.htm?&id=652208627822' since it exceeds Excel's limit of 65,530 URLS per worksheet.\n",
      "  warn(\"Ignoring URL '%s' since it exceeds Excel's limit of \"\n",
      "C:\\Users\\rshe11\\Anaconda3\\lib\\site-packages\\xlsxwriter\\worksheet.py:1177: UserWarning: Ignoring URL 'https://item.taobao.com/item.htm?&id=654509203296' since it exceeds Excel's limit of 65,530 URLS per worksheet.\n",
      "  warn(\"Ignoring URL '%s' since it exceeds Excel's limit of \"\n",
      "C:\\Users\\rshe11\\Anaconda3\\lib\\site-packages\\xlsxwriter\\worksheet.py:1177: UserWarning: Ignoring URL 'https://item.taobao.com/item.htm?&id=653747929157' since it exceeds Excel's limit of 65,530 URLS per worksheet.\n",
      "  warn(\"Ignoring URL '%s' since it exceeds Excel's limit of \"\n"
     ]
    },
    {
     "name": "stdout",
     "output_type": "stream",
     "text": [
      "12 Mizuno/美津浓\n",
      "13 NEW BALANCE\n",
      "14 Nike/耐克\n",
      "15 On/昂跑\n",
      "16 Peak/匹克\n",
      "17 Puma/彪马\n",
      "18 Reebok/锐步\n",
      "19 SALOMON/萨洛蒙\n",
      "20 Saucony/索康尼\n",
      "21 Skechers/斯凯奇\n",
      "22 Under Armour/安德玛\n",
      "23 XTEP/特步\n"
     ]
    },
    {
     "name": "stderr",
     "output_type": "stream",
     "text": [
      "C:\\Users\\rshe11\\Anaconda3\\lib\\site-packages\\xlsxwriter\\worksheet.py:1177: UserWarning: Ignoring URL 'https://item.taobao.com/item.htm?&id=638946061236' since it exceeds Excel's limit of 65,530 URLS per worksheet.\n",
      "  warn(\"Ignoring URL '%s' since it exceeds Excel's limit of \"\n",
      "C:\\Users\\rshe11\\Anaconda3\\lib\\site-packages\\xlsxwriter\\worksheet.py:1177: UserWarning: Ignoring URL 'https://item.taobao.com/item.htm?&id=621759396665' since it exceeds Excel's limit of 65,530 URLS per worksheet.\n",
      "  warn(\"Ignoring URL '%s' since it exceeds Excel's limit of \"\n",
      "C:\\Users\\rshe11\\Anaconda3\\lib\\site-packages\\xlsxwriter\\worksheet.py:1177: UserWarning: Ignoring URL 'https://item.taobao.com/item.htm?&id=633884474525' since it exceeds Excel's limit of 65,530 URLS per worksheet.\n",
      "  warn(\"Ignoring URL '%s' since it exceeds Excel's limit of \"\n",
      "C:\\Users\\rshe11\\Anaconda3\\lib\\site-packages\\xlsxwriter\\worksheet.py:1177: UserWarning: Ignoring URL 'https://item.taobao.com/item.htm?&id=636945001623' since it exceeds Excel's limit of 65,530 URLS per worksheet.\n",
      "  warn(\"Ignoring URL '%s' since it exceeds Excel's limit of \"\n",
      "C:\\Users\\rshe11\\Anaconda3\\lib\\site-packages\\xlsxwriter\\worksheet.py:1177: UserWarning: Ignoring URL 'https://item.taobao.com/item.htm?&id=622696734096' since it exceeds Excel's limit of 65,530 URLS per worksheet.\n",
      "  warn(\"Ignoring URL '%s' since it exceeds Excel's limit of \"\n",
      "C:\\Users\\rshe11\\Anaconda3\\lib\\site-packages\\xlsxwriter\\worksheet.py:1177: UserWarning: Ignoring URL 'https://item.taobao.com/item.htm?&id=610361865643' since it exceeds Excel's limit of 65,530 URLS per worksheet.\n",
      "  warn(\"Ignoring URL '%s' since it exceeds Excel's limit of \"\n",
      "C:\\Users\\rshe11\\Anaconda3\\lib\\site-packages\\xlsxwriter\\worksheet.py:1177: UserWarning: Ignoring URL 'https://item.taobao.com/item.htm?&id=623591384903' since it exceeds Excel's limit of 65,530 URLS per worksheet.\n",
      "  warn(\"Ignoring URL '%s' since it exceeds Excel's limit of \"\n",
      "C:\\Users\\rshe11\\Anaconda3\\lib\\site-packages\\xlsxwriter\\worksheet.py:1177: UserWarning: Ignoring URL 'https://item.taobao.com/item.htm?&id=638058755532' since it exceeds Excel's limit of 65,530 URLS per worksheet.\n",
      "  warn(\"Ignoring URL '%s' since it exceeds Excel's limit of \"\n",
      "C:\\Users\\rshe11\\Anaconda3\\lib\\site-packages\\xlsxwriter\\worksheet.py:1177: UserWarning: Ignoring URL 'https://item.taobao.com/item.htm?&id=628176385985' since it exceeds Excel's limit of 65,530 URLS per worksheet.\n",
      "  warn(\"Ignoring URL '%s' since it exceeds Excel's limit of \"\n",
      "C:\\Users\\rshe11\\Anaconda3\\lib\\site-packages\\xlsxwriter\\worksheet.py:1177: UserWarning: Ignoring URL 'https://item.taobao.com/item.htm?&id=608694461466' since it exceeds Excel's limit of 65,530 URLS per worksheet.\n",
      "  warn(\"Ignoring URL '%s' since it exceeds Excel's limit of \"\n",
      "C:\\Users\\rshe11\\Anaconda3\\lib\\site-packages\\xlsxwriter\\worksheet.py:1177: UserWarning: Ignoring URL 'https://item.taobao.com/item.htm?&id=616298426862' since it exceeds Excel's limit of 65,530 URLS per worksheet.\n",
      "  warn(\"Ignoring URL '%s' since it exceeds Excel's limit of \"\n",
      "C:\\Users\\rshe11\\Anaconda3\\lib\\site-packages\\xlsxwriter\\worksheet.py:1177: UserWarning: Ignoring URL 'https://item.taobao.com/item.htm?&id=592878231823' since it exceeds Excel's limit of 65,530 URLS per worksheet.\n",
      "  warn(\"Ignoring URL '%s' since it exceeds Excel's limit of \"\n",
      "C:\\Users\\rshe11\\Anaconda3\\lib\\site-packages\\xlsxwriter\\worksheet.py:1177: UserWarning: Ignoring URL 'https://item.taobao.com/item.htm?&id=625576601905' since it exceeds Excel's limit of 65,530 URLS per worksheet.\n",
      "  warn(\"Ignoring URL '%s' since it exceeds Excel's limit of \"\n",
      "C:\\Users\\rshe11\\Anaconda3\\lib\\site-packages\\xlsxwriter\\worksheet.py:1177: UserWarning: Ignoring URL 'https://item.taobao.com/item.htm?&id=631939992426' since it exceeds Excel's limit of 65,530 URLS per worksheet.\n",
      "  warn(\"Ignoring URL '%s' since it exceeds Excel's limit of \"\n",
      "C:\\Users\\rshe11\\Anaconda3\\lib\\site-packages\\xlsxwriter\\worksheet.py:1177: UserWarning: Ignoring URL 'https://item.taobao.com/item.htm?&id=624709110979' since it exceeds Excel's limit of 65,530 URLS per worksheet.\n",
      "  warn(\"Ignoring URL '%s' since it exceeds Excel's limit of \"\n",
      "C:\\Users\\rshe11\\Anaconda3\\lib\\site-packages\\xlsxwriter\\worksheet.py:1177: UserWarning: Ignoring URL 'https://item.taobao.com/item.htm?&id=600751310230' since it exceeds Excel's limit of 65,530 URLS per worksheet.\n",
      "  warn(\"Ignoring URL '%s' since it exceeds Excel's limit of \"\n",
      "C:\\Users\\rshe11\\Anaconda3\\lib\\site-packages\\xlsxwriter\\worksheet.py:1177: UserWarning: Ignoring URL 'https://item.taobao.com/item.htm?&id=578619734039' since it exceeds Excel's limit of 65,530 URLS per worksheet.\n",
      "  warn(\"Ignoring URL '%s' since it exceeds Excel's limit of \"\n",
      "C:\\Users\\rshe11\\Anaconda3\\lib\\site-packages\\xlsxwriter\\worksheet.py:1177: UserWarning: Ignoring URL 'https://item.taobao.com/item.htm?&id=637036201202' since it exceeds Excel's limit of 65,530 URLS per worksheet.\n",
      "  warn(\"Ignoring URL '%s' since it exceeds Excel's limit of \"\n",
      "C:\\Users\\rshe11\\Anaconda3\\lib\\site-packages\\xlsxwriter\\worksheet.py:1177: UserWarning: Ignoring URL 'https://item.taobao.com/item.htm?&id=614149355553' since it exceeds Excel's limit of 65,530 URLS per worksheet.\n",
      "  warn(\"Ignoring URL '%s' since it exceeds Excel's limit of \"\n",
      "C:\\Users\\rshe11\\Anaconda3\\lib\\site-packages\\xlsxwriter\\worksheet.py:1177: UserWarning: Ignoring URL 'https://item.taobao.com/item.htm?&id=637038064798' since it exceeds Excel's limit of 65,530 URLS per worksheet.\n",
      "  warn(\"Ignoring URL '%s' since it exceeds Excel's limit of \"\n",
      "C:\\Users\\rshe11\\Anaconda3\\lib\\site-packages\\xlsxwriter\\worksheet.py:1177: UserWarning: Ignoring URL 'https://item.taobao.com/item.htm?&id=632652974670' since it exceeds Excel's limit of 65,530 URLS per worksheet.\n",
      "  warn(\"Ignoring URL '%s' since it exceeds Excel's limit of \"\n",
      "C:\\Users\\rshe11\\Anaconda3\\lib\\site-packages\\xlsxwriter\\worksheet.py:1177: UserWarning: Ignoring URL 'https://item.taobao.com/item.htm?&id=614550465603' since it exceeds Excel's limit of 65,530 URLS per worksheet.\n",
      "  warn(\"Ignoring URL '%s' since it exceeds Excel's limit of \"\n",
      "C:\\Users\\rshe11\\Anaconda3\\lib\\site-packages\\xlsxwriter\\worksheet.py:1177: UserWarning: Ignoring URL 'https://item.taobao.com/item.htm?&id=638945845765' since it exceeds Excel's limit of 65,530 URLS per worksheet.\n",
      "  warn(\"Ignoring URL '%s' since it exceeds Excel's limit of \"\n",
      "C:\\Users\\rshe11\\Anaconda3\\lib\\site-packages\\xlsxwriter\\worksheet.py:1177: UserWarning: Ignoring URL 'https://item.taobao.com/item.htm?&id=634796568650' since it exceeds Excel's limit of 65,530 URLS per worksheet.\n",
      "  warn(\"Ignoring URL '%s' since it exceeds Excel's limit of \"\n",
      "C:\\Users\\rshe11\\Anaconda3\\lib\\site-packages\\xlsxwriter\\worksheet.py:1177: UserWarning: Ignoring URL 'https://item.taobao.com/item.htm?&id=638319819207' since it exceeds Excel's limit of 65,530 URLS per worksheet.\n",
      "  warn(\"Ignoring URL '%s' since it exceeds Excel's limit of \"\n",
      "C:\\Users\\rshe11\\Anaconda3\\lib\\site-packages\\xlsxwriter\\worksheet.py:1177: UserWarning: Ignoring URL 'https://item.taobao.com/item.htm?&id=635472706807' since it exceeds Excel's limit of 65,530 URLS per worksheet.\n",
      "  warn(\"Ignoring URL '%s' since it exceeds Excel's limit of \"\n",
      "C:\\Users\\rshe11\\Anaconda3\\lib\\site-packages\\xlsxwriter\\worksheet.py:1177: UserWarning: Ignoring URL 'https://item.taobao.com/item.htm?&id=614199745922' since it exceeds Excel's limit of 65,530 URLS per worksheet.\n",
      "  warn(\"Ignoring URL '%s' since it exceeds Excel's limit of \"\n",
      "C:\\Users\\rshe11\\Anaconda3\\lib\\site-packages\\xlsxwriter\\worksheet.py:1177: UserWarning: Ignoring URL 'https://item.taobao.com/item.htm?&id=632626544297' since it exceeds Excel's limit of 65,530 URLS per worksheet.\n",
      "  warn(\"Ignoring URL '%s' since it exceeds Excel's limit of \"\n",
      "C:\\Users\\rshe11\\Anaconda3\\lib\\site-packages\\xlsxwriter\\worksheet.py:1177: UserWarning: Ignoring URL 'https://item.taobao.com/item.htm?&id=626705223305' since it exceeds Excel's limit of 65,530 URLS per worksheet.\n",
      "  warn(\"Ignoring URL '%s' since it exceeds Excel's limit of \"\n",
      "C:\\Users\\rshe11\\Anaconda3\\lib\\site-packages\\xlsxwriter\\worksheet.py:1177: UserWarning: Ignoring URL 'https://item.taobao.com/item.htm?&id=630464712887' since it exceeds Excel's limit of 65,530 URLS per worksheet.\n",
      "  warn(\"Ignoring URL '%s' since it exceeds Excel's limit of \"\n"
     ]
    },
    {
     "name": "stdout",
     "output_type": "stream",
     "text": [
      "24 乔丹\n"
     ]
    },
    {
     "name": "stderr",
     "output_type": "stream",
     "text": [
      "C:\\Users\\rshe11\\Anaconda3\\lib\\site-packages\\xlsxwriter\\worksheet.py:1177: UserWarning: Ignoring URL 'https://item.taobao.com/item.htm?&id=637706013073' since it exceeds Excel's limit of 65,530 URLS per worksheet.\n",
      "  warn(\"Ignoring URL '%s' since it exceeds Excel's limit of \"\n",
      "C:\\Users\\rshe11\\Anaconda3\\lib\\site-packages\\xlsxwriter\\worksheet.py:1177: UserWarning: Ignoring URL 'https://item.taobao.com/item.htm?&id=583070626529' since it exceeds Excel's limit of 65,530 URLS per worksheet.\n",
      "  warn(\"Ignoring URL '%s' since it exceeds Excel's limit of \"\n",
      "C:\\Users\\rshe11\\Anaconda3\\lib\\site-packages\\xlsxwriter\\worksheet.py:1177: UserWarning: Ignoring URL 'https://item.taobao.com/item.htm?&id=638285655619' since it exceeds Excel's limit of 65,530 URLS per worksheet.\n",
      "  warn(\"Ignoring URL '%s' since it exceeds Excel's limit of \"\n",
      "C:\\Users\\rshe11\\Anaconda3\\lib\\site-packages\\xlsxwriter\\worksheet.py:1177: UserWarning: Ignoring URL 'https://item.taobao.com/item.htm?&id=612718075084' since it exceeds Excel's limit of 65,530 URLS per worksheet.\n",
      "  warn(\"Ignoring URL '%s' since it exceeds Excel's limit of \"\n",
      "C:\\Users\\rshe11\\Anaconda3\\lib\\site-packages\\xlsxwriter\\worksheet.py:1177: UserWarning: Ignoring URL 'https://item.taobao.com/item.htm?&id=618251301177' since it exceeds Excel's limit of 65,530 URLS per worksheet.\n",
      "  warn(\"Ignoring URL '%s' since it exceeds Excel's limit of \"\n",
      "C:\\Users\\rshe11\\Anaconda3\\lib\\site-packages\\xlsxwriter\\worksheet.py:1177: UserWarning: Ignoring URL 'https://item.taobao.com/item.htm?&id=625305642205' since it exceeds Excel's limit of 65,530 URLS per worksheet.\n",
      "  warn(\"Ignoring URL '%s' since it exceeds Excel's limit of \"\n",
      "C:\\Users\\rshe11\\Anaconda3\\lib\\site-packages\\xlsxwriter\\worksheet.py:1177: UserWarning: Ignoring URL 'https://item.taobao.com/item.htm?&id=551000984197' since it exceeds Excel's limit of 65,530 URLS per worksheet.\n",
      "  warn(\"Ignoring URL '%s' since it exceeds Excel's limit of \"\n",
      "C:\\Users\\rshe11\\Anaconda3\\lib\\site-packages\\xlsxwriter\\worksheet.py:1177: UserWarning: Ignoring URL 'https://item.taobao.com/item.htm?&id=525479228175' since it exceeds Excel's limit of 65,530 URLS per worksheet.\n",
      "  warn(\"Ignoring URL '%s' since it exceeds Excel's limit of \"\n",
      "C:\\Users\\rshe11\\Anaconda3\\lib\\site-packages\\xlsxwriter\\worksheet.py:1177: UserWarning: Ignoring URL 'https://item.taobao.com/item.htm?&id=601159055341' since it exceeds Excel's limit of 65,530 URLS per worksheet.\n",
      "  warn(\"Ignoring URL '%s' since it exceeds Excel's limit of \"\n",
      "C:\\Users\\rshe11\\Anaconda3\\lib\\site-packages\\xlsxwriter\\worksheet.py:1177: UserWarning: Ignoring URL 'https://item.taobao.com/item.htm?&id=576141766424' since it exceeds Excel's limit of 65,530 URLS per worksheet.\n",
      "  warn(\"Ignoring URL '%s' since it exceeds Excel's limit of \"\n",
      "C:\\Users\\rshe11\\Anaconda3\\lib\\site-packages\\xlsxwriter\\worksheet.py:1177: UserWarning: Ignoring URL 'https://item.taobao.com/item.htm?&id=638371635157' since it exceeds Excel's limit of 65,530 URLS per worksheet.\n",
      "  warn(\"Ignoring URL '%s' since it exceeds Excel's limit of \"\n",
      "C:\\Users\\rshe11\\Anaconda3\\lib\\site-packages\\xlsxwriter\\worksheet.py:1177: UserWarning: Ignoring URL 'https://item.taobao.com/item.htm?&id=639003209072' since it exceeds Excel's limit of 65,530 URLS per worksheet.\n",
      "  warn(\"Ignoring URL '%s' since it exceeds Excel's limit of \"\n",
      "C:\\Users\\rshe11\\Anaconda3\\lib\\site-packages\\xlsxwriter\\worksheet.py:1177: UserWarning: Ignoring URL 'https://item.taobao.com/item.htm?&id=641216122737' since it exceeds Excel's limit of 65,530 URLS per worksheet.\n",
      "  warn(\"Ignoring URL '%s' since it exceeds Excel's limit of \"\n",
      "C:\\Users\\rshe11\\Anaconda3\\lib\\site-packages\\xlsxwriter\\worksheet.py:1177: UserWarning: Ignoring URL 'https://item.taobao.com/item.htm?&id=637976046290' since it exceeds Excel's limit of 65,530 URLS per worksheet.\n",
      "  warn(\"Ignoring URL '%s' since it exceeds Excel's limit of \"\n",
      "C:\\Users\\rshe11\\Anaconda3\\lib\\site-packages\\xlsxwriter\\worksheet.py:1177: UserWarning: Ignoring URL 'https://item.taobao.com/item.htm?&id=583110512932' since it exceeds Excel's limit of 65,530 URLS per worksheet.\n",
      "  warn(\"Ignoring URL '%s' since it exceeds Excel's limit of \"\n",
      "C:\\Users\\rshe11\\Anaconda3\\lib\\site-packages\\xlsxwriter\\worksheet.py:1177: UserWarning: Ignoring URL 'https://item.taobao.com/item.htm?&id=623915173100' since it exceeds Excel's limit of 65,530 URLS per worksheet.\n",
      "  warn(\"Ignoring URL '%s' since it exceeds Excel's limit of \"\n",
      "C:\\Users\\rshe11\\Anaconda3\\lib\\site-packages\\xlsxwriter\\worksheet.py:1177: UserWarning: Ignoring URL 'https://item.taobao.com/item.htm?&id=640575482375' since it exceeds Excel's limit of 65,530 URLS per worksheet.\n",
      "  warn(\"Ignoring URL '%s' since it exceeds Excel's limit of \"\n",
      "C:\\Users\\rshe11\\Anaconda3\\lib\\site-packages\\xlsxwriter\\worksheet.py:1177: UserWarning: Ignoring URL 'https://item.taobao.com/item.htm?&id=631688393795' since it exceeds Excel's limit of 65,530 URLS per worksheet.\n",
      "  warn(\"Ignoring URL '%s' since it exceeds Excel's limit of \"\n",
      "C:\\Users\\rshe11\\Anaconda3\\lib\\site-packages\\xlsxwriter\\worksheet.py:1177: UserWarning: Ignoring URL 'https://item.taobao.com/item.htm?&id=637975910368' since it exceeds Excel's limit of 65,530 URLS per worksheet.\n",
      "  warn(\"Ignoring URL '%s' since it exceeds Excel's limit of \"\n",
      "C:\\Users\\rshe11\\Anaconda3\\lib\\site-packages\\xlsxwriter\\worksheet.py:1177: UserWarning: Ignoring URL 'https://item.taobao.com/item.htm?&id=620113245709' since it exceeds Excel's limit of 65,530 URLS per worksheet.\n",
      "  warn(\"Ignoring URL '%s' since it exceeds Excel's limit of \"\n",
      "C:\\Users\\rshe11\\Anaconda3\\lib\\site-packages\\xlsxwriter\\worksheet.py:1177: UserWarning: Ignoring URL 'https://item.taobao.com/item.htm?&id=617996312494' since it exceeds Excel's limit of 65,530 URLS per worksheet.\n",
      "  warn(\"Ignoring URL '%s' since it exceeds Excel's limit of \"\n",
      "C:\\Users\\rshe11\\Anaconda3\\lib\\site-packages\\xlsxwriter\\worksheet.py:1177: UserWarning: Ignoring URL 'https://item.taobao.com/item.htm?&id=625672805133' since it exceeds Excel's limit of 65,530 URLS per worksheet.\n",
      "  warn(\"Ignoring URL '%s' since it exceeds Excel's limit of \"\n",
      "C:\\Users\\rshe11\\Anaconda3\\lib\\site-packages\\xlsxwriter\\worksheet.py:1177: UserWarning: Ignoring URL 'https://item.taobao.com/item.htm?&id=594632962884' since it exceeds Excel's limit of 65,530 URLS per worksheet.\n",
      "  warn(\"Ignoring URL '%s' since it exceeds Excel's limit of \"\n",
      "C:\\Users\\rshe11\\Anaconda3\\lib\\site-packages\\xlsxwriter\\worksheet.py:1177: UserWarning: Ignoring URL 'https://item.taobao.com/item.htm?&id=602338009538' since it exceeds Excel's limit of 65,530 URLS per worksheet.\n",
      "  warn(\"Ignoring URL '%s' since it exceeds Excel's limit of \"\n",
      "C:\\Users\\rshe11\\Anaconda3\\lib\\site-packages\\xlsxwriter\\worksheet.py:1177: UserWarning: Ignoring URL 'https://item.taobao.com/item.htm?&id=624186970373' since it exceeds Excel's limit of 65,530 URLS per worksheet.\n",
      "  warn(\"Ignoring URL '%s' since it exceeds Excel's limit of \"\n",
      "C:\\Users\\rshe11\\Anaconda3\\lib\\site-packages\\xlsxwriter\\worksheet.py:1177: UserWarning: Ignoring URL 'https://item.taobao.com/item.htm?&id=552584108047' since it exceeds Excel's limit of 65,530 URLS per worksheet.\n",
      "  warn(\"Ignoring URL '%s' since it exceeds Excel's limit of \"\n",
      "C:\\Users\\rshe11\\Anaconda3\\lib\\site-packages\\xlsxwriter\\worksheet.py:1177: UserWarning: Ignoring URL 'https://item.taobao.com/item.htm?&id=583138674551' since it exceeds Excel's limit of 65,530 URLS per worksheet.\n",
      "  warn(\"Ignoring URL '%s' since it exceeds Excel's limit of \"\n",
      "C:\\Users\\rshe11\\Anaconda3\\lib\\site-packages\\xlsxwriter\\worksheet.py:1177: UserWarning: Ignoring URL 'https://item.taobao.com/item.htm?&id=612247932890' since it exceeds Excel's limit of 65,530 URLS per worksheet.\n",
      "  warn(\"Ignoring URL '%s' since it exceeds Excel's limit of \"\n",
      "C:\\Users\\rshe11\\Anaconda3\\lib\\site-packages\\xlsxwriter\\worksheet.py:1177: UserWarning: Ignoring URL 'https://item.taobao.com/item.htm?&id=638371007741' since it exceeds Excel's limit of 65,530 URLS per worksheet.\n",
      "  warn(\"Ignoring URL '%s' since it exceeds Excel's limit of \"\n",
      "C:\\Users\\rshe11\\Anaconda3\\lib\\site-packages\\xlsxwriter\\worksheet.py:1177: UserWarning: Ignoring URL 'https://item.taobao.com/item.htm?&id=635836650069' since it exceeds Excel's limit of 65,530 URLS per worksheet.\n",
      "  warn(\"Ignoring URL '%s' since it exceeds Excel's limit of \"\n"
     ]
    }
   ],
   "source": [
    "has_tag_result = result[result[\"is_tagged\"] == True]\n",
    "updated_result = pd.concat([has_tag_result, no_tag_result])\n",
    "updated_result['is_tagged'] = updated_result[tag_columns].sum(axis=1) >= 1\n",
    "updated_result['is_tagged'].sum() / len(updated_result)\n",
    "save_tagged_result_by_brand(updated_result , save_folder='model_result/评论标签结果补打版')"
   ]
  },
  {
   "cell_type": "code",
   "execution_count": 22,
   "metadata": {},
   "outputs": [],
   "source": [
    "a=[x for x in result.columns if '性能' in x[0]]"
   ]
  },
  {
   "cell_type": "code",
   "execution_count": 23,
   "metadata": {
    "scrolled": true
   },
   "outputs": [
    {
     "data": {
      "text/plain": [
       "[('性能', '其他(正面)'),\n",
       " ('性能', '其他(负面)'),\n",
       " ('性能', '回弹(正面)'),\n",
       " ('性能', '回弹(负面)'),\n",
       " ('性能', '提速(正面)'),\n",
       " ('性能', '提速(负面)'),\n",
       " ('性能', '缓震(正面)'),\n",
       " ('性能', '缓震(负面)'),\n",
       " ('性能', '轻量(正面)'),\n",
       " ('性能', '轻量(负面)'),\n",
       " ('运动性能', '回弹(正面)'),\n",
       " ('运动性能', '回弹(负面)'),\n",
       " ('运动性能', '提速(正面)'),\n",
       " ('运动性能', '提速(负面)')]"
      ]
     },
     "execution_count": 23,
     "metadata": {},
     "output_type": "execute_result"
    }
   ],
   "source": [
    "a"
   ]
  },
  {
   "cell_type": "code",
   "execution_count": 25,
   "metadata": {},
   "outputs": [],
   "source": [
    "a = [(('性能', '回弹(正面)'), ('运动性能', '回弹(正面)')),\n",
    "     (('性能', '回弹(负面)'), ('运动性能', '回弹(负面)')),\n",
    "     (('性能', '提速(正面)'), ('运动性能', '提速(正面)')),\n",
    "     (('性能', '提速(负面)'), ('运动性能', '提速(负面)'))\n",
    "    ]\n",
    "for right, wrong in a:\n",
    "    result[right] =result.loc[:, [right, wrong]].max(axis=1)\n",
    "    del result[wrong]"
   ]
  },
  {
   "cell_type": "code",
   "execution_count": 26,
   "metadata": {},
   "outputs": [
    {
     "data": {
      "text/plain": [
       "Index([               '品牌',                '单品',                '链接',\n",
       "                    'MSRP',              '评论序号',              '评论内容',\n",
       "            ('人群', '兄弟姐妹'),      ('人群', '其他长辈'),    ('人群', '女朋友/老婆'),\n",
       "              ('人群', '奶奶'),\n",
       "       ...\n",
       "        ('适用场景', '跑跳(负面)'),  ('适用场景', '跳绳(正面)'),  ('适用场景', '跳绳(负面)'),\n",
       "        ('适用场景', '跳舞(正面)'),  ('适用场景', '跳舞(负面)'), ('适用场景', '马拉松(正面)'),\n",
       "       ('适用场景', '马拉松(负面)'),      ('首购', '其他首购'),      ('首购', '品牌首购'),\n",
       "               'is_tagged'],\n",
       "      dtype='object', length=145)"
      ]
     },
     "execution_count": 26,
     "metadata": {},
     "output_type": "execute_result"
    }
   ],
   "source": [
    "result.columns"
   ]
  },
  {
   "cell_type": "code",
   "execution_count": null,
   "metadata": {},
   "outputs": [],
   "source": []
  }
 ],
 "metadata": {
  "kernelspec": {
   "display_name": "Python 3 (ipykernel)",
   "language": "python",
   "name": "python3"
  },
  "language_info": {
   "codemirror_mode": {
    "name": "ipython",
    "version": 3
   },
   "file_extension": ".py",
   "mimetype": "text/x-python",
   "name": "python",
   "nbconvert_exporter": "python",
   "pygments_lexer": "ipython3",
   "version": "3.9.7"
  }
 },
 "nbformat": 4,
 "nbformat_minor": 4
}
